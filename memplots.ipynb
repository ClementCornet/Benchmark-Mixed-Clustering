{
 "cells": [
  {
   "cell_type": "code",
   "execution_count": 1,
   "metadata": {},
   "outputs": [],
   "source": [
    "import pandas as pd\n",
    "import plotly.express as px"
   ]
  },
  {
   "attachments": {},
   "cell_type": "markdown",
   "metadata": {},
   "source": [
    "## BASE CASE"
   ]
  },
  {
   "attachments": {},
   "cell_type": "markdown",
   "metadata": {},
   "source": [
    "500 indivs, 5 features numeriques, 5 features catégoriques"
   ]
  },
  {
   "cell_type": "code",
   "execution_count": 2,
   "metadata": {},
   "outputs": [],
   "source": [
    "base_case = {\n",
    "        \"ClustMD\": [184.296919, 28.09750008583069],\n",
    "        \"DenseClus\": [42.257825000000025, 17.524900197982788],\n",
    "        \"Phillip & Ottaway\":[30.007769000000053, 1.4196999073028564],\n",
    "        \"Kamila\":[116.44922500000001, 1.6607000827789307],\n",
    "        \"K-Prototypes\":[24.589850000000013, 2.361299991607666],\n",
    "        \"MixtComp\":[153.73832499999997, 2.758500099182129],\n",
    "        \"Modha-Spangler\":[117.761731, 13.666800022125244],\n",
    "        \"Pretopo-FAMD\":[58.757799999999975, 3.3143999576568604],\n",
    "        \"Pretopo-UMAP\":[77.55470599999995, 9.262700080871582],\n",
    "        \"Pretopo-PaCMAP\":[59.472644, 3.909899950027466],\n",
    "        \"PretopoMD\":[13.164044000000047, 19.644400119781494]\n",
    "    }"
   ]
  },
  {
   "cell_type": "code",
   "execution_count": 3,
   "metadata": {},
   "outputs": [],
   "source": [
    "base_df = pd.DataFrame(base_case).T\n",
    "base_df.columns = [\"Mem (MiB)\", \"Time (s)\"]"
   ]
  },
  {
   "cell_type": "code",
   "execution_count": 4,
   "metadata": {},
   "outputs": [
    {
     "data": {
      "application/vnd.plotly.v1+json": {
       "config": {
        "plotlyServerURL": "https://plot.ly"
       },
       "data": [
        {
         "type": "bar",
         "x": [
          "ClustMD",
          "DenseClus",
          "Phillip & Ottaway",
          "Kamila",
          "K-Prototypes",
          "MixtComp",
          "Modha-Spangler",
          "Pretopo-FAMD",
          "Pretopo-UMAP",
          "Pretopo-PaCMAP",
          "PretopoMD"
         ],
         "xaxis": "x",
         "y": [
          184.296919,
          42.257825000000025,
          30.007769000000053,
          116.44922500000001,
          24.589850000000013,
          153.73832499999997,
          117.761731,
          58.757799999999975,
          77.55470599999995,
          59.472644,
          13.164044000000047
         ],
         "yaxis": "y"
        },
        {
         "type": "bar",
         "x": [
          "ClustMD",
          "DenseClus",
          "Phillip & Ottaway",
          "Kamila",
          "K-Prototypes",
          "MixtComp",
          "Modha-Spangler",
          "Pretopo-FAMD",
          "Pretopo-UMAP",
          "Pretopo-PaCMAP",
          "PretopoMD"
         ],
         "xaxis": "x2",
         "y": [
          28.09750008583069,
          17.524900197982788,
          1.4196999073028564,
          1.6607000827789307,
          2.361299991607666,
          2.758500099182129,
          13.666800022125244,
          3.3143999576568604,
          9.262700080871582,
          3.909899950027466,
          19.644400119781494
         ],
         "yaxis": "y2"
        }
       ],
       "layout": {
        "annotations": [
         {
          "font": {
           "size": 16
          },
          "showarrow": false,
          "text": "Memory usage (MiB)",
          "x": 0.225,
          "xanchor": "center",
          "xref": "paper",
          "y": 1,
          "yanchor": "bottom",
          "yref": "paper"
         },
         {
          "font": {
           "size": 16
          },
          "showarrow": false,
          "text": "Computation Time (s)",
          "x": 0.775,
          "xanchor": "center",
          "xref": "paper",
          "y": 1,
          "yanchor": "bottom",
          "yref": "paper"
         }
        ],
        "showlegend": false,
        "template": {
         "data": {
          "bar": [
           {
            "error_x": {
             "color": "#2a3f5f"
            },
            "error_y": {
             "color": "#2a3f5f"
            },
            "marker": {
             "line": {
              "color": "#E5ECF6",
              "width": 0.5
             },
             "pattern": {
              "fillmode": "overlay",
              "size": 10,
              "solidity": 0.2
             }
            },
            "type": "bar"
           }
          ],
          "barpolar": [
           {
            "marker": {
             "line": {
              "color": "#E5ECF6",
              "width": 0.5
             },
             "pattern": {
              "fillmode": "overlay",
              "size": 10,
              "solidity": 0.2
             }
            },
            "type": "barpolar"
           }
          ],
          "carpet": [
           {
            "aaxis": {
             "endlinecolor": "#2a3f5f",
             "gridcolor": "white",
             "linecolor": "white",
             "minorgridcolor": "white",
             "startlinecolor": "#2a3f5f"
            },
            "baxis": {
             "endlinecolor": "#2a3f5f",
             "gridcolor": "white",
             "linecolor": "white",
             "minorgridcolor": "white",
             "startlinecolor": "#2a3f5f"
            },
            "type": "carpet"
           }
          ],
          "choropleth": [
           {
            "colorbar": {
             "outlinewidth": 0,
             "ticks": ""
            },
            "type": "choropleth"
           }
          ],
          "contour": [
           {
            "colorbar": {
             "outlinewidth": 0,
             "ticks": ""
            },
            "colorscale": [
             [
              0,
              "#0d0887"
             ],
             [
              0.1111111111111111,
              "#46039f"
             ],
             [
              0.2222222222222222,
              "#7201a8"
             ],
             [
              0.3333333333333333,
              "#9c179e"
             ],
             [
              0.4444444444444444,
              "#bd3786"
             ],
             [
              0.5555555555555556,
              "#d8576b"
             ],
             [
              0.6666666666666666,
              "#ed7953"
             ],
             [
              0.7777777777777778,
              "#fb9f3a"
             ],
             [
              0.8888888888888888,
              "#fdca26"
             ],
             [
              1,
              "#f0f921"
             ]
            ],
            "type": "contour"
           }
          ],
          "contourcarpet": [
           {
            "colorbar": {
             "outlinewidth": 0,
             "ticks": ""
            },
            "type": "contourcarpet"
           }
          ],
          "heatmap": [
           {
            "colorbar": {
             "outlinewidth": 0,
             "ticks": ""
            },
            "colorscale": [
             [
              0,
              "#0d0887"
             ],
             [
              0.1111111111111111,
              "#46039f"
             ],
             [
              0.2222222222222222,
              "#7201a8"
             ],
             [
              0.3333333333333333,
              "#9c179e"
             ],
             [
              0.4444444444444444,
              "#bd3786"
             ],
             [
              0.5555555555555556,
              "#d8576b"
             ],
             [
              0.6666666666666666,
              "#ed7953"
             ],
             [
              0.7777777777777778,
              "#fb9f3a"
             ],
             [
              0.8888888888888888,
              "#fdca26"
             ],
             [
              1,
              "#f0f921"
             ]
            ],
            "type": "heatmap"
           }
          ],
          "heatmapgl": [
           {
            "colorbar": {
             "outlinewidth": 0,
             "ticks": ""
            },
            "colorscale": [
             [
              0,
              "#0d0887"
             ],
             [
              0.1111111111111111,
              "#46039f"
             ],
             [
              0.2222222222222222,
              "#7201a8"
             ],
             [
              0.3333333333333333,
              "#9c179e"
             ],
             [
              0.4444444444444444,
              "#bd3786"
             ],
             [
              0.5555555555555556,
              "#d8576b"
             ],
             [
              0.6666666666666666,
              "#ed7953"
             ],
             [
              0.7777777777777778,
              "#fb9f3a"
             ],
             [
              0.8888888888888888,
              "#fdca26"
             ],
             [
              1,
              "#f0f921"
             ]
            ],
            "type": "heatmapgl"
           }
          ],
          "histogram": [
           {
            "marker": {
             "pattern": {
              "fillmode": "overlay",
              "size": 10,
              "solidity": 0.2
             }
            },
            "type": "histogram"
           }
          ],
          "histogram2d": [
           {
            "colorbar": {
             "outlinewidth": 0,
             "ticks": ""
            },
            "colorscale": [
             [
              0,
              "#0d0887"
             ],
             [
              0.1111111111111111,
              "#46039f"
             ],
             [
              0.2222222222222222,
              "#7201a8"
             ],
             [
              0.3333333333333333,
              "#9c179e"
             ],
             [
              0.4444444444444444,
              "#bd3786"
             ],
             [
              0.5555555555555556,
              "#d8576b"
             ],
             [
              0.6666666666666666,
              "#ed7953"
             ],
             [
              0.7777777777777778,
              "#fb9f3a"
             ],
             [
              0.8888888888888888,
              "#fdca26"
             ],
             [
              1,
              "#f0f921"
             ]
            ],
            "type": "histogram2d"
           }
          ],
          "histogram2dcontour": [
           {
            "colorbar": {
             "outlinewidth": 0,
             "ticks": ""
            },
            "colorscale": [
             [
              0,
              "#0d0887"
             ],
             [
              0.1111111111111111,
              "#46039f"
             ],
             [
              0.2222222222222222,
              "#7201a8"
             ],
             [
              0.3333333333333333,
              "#9c179e"
             ],
             [
              0.4444444444444444,
              "#bd3786"
             ],
             [
              0.5555555555555556,
              "#d8576b"
             ],
             [
              0.6666666666666666,
              "#ed7953"
             ],
             [
              0.7777777777777778,
              "#fb9f3a"
             ],
             [
              0.8888888888888888,
              "#fdca26"
             ],
             [
              1,
              "#f0f921"
             ]
            ],
            "type": "histogram2dcontour"
           }
          ],
          "mesh3d": [
           {
            "colorbar": {
             "outlinewidth": 0,
             "ticks": ""
            },
            "type": "mesh3d"
           }
          ],
          "parcoords": [
           {
            "line": {
             "colorbar": {
              "outlinewidth": 0,
              "ticks": ""
             }
            },
            "type": "parcoords"
           }
          ],
          "pie": [
           {
            "automargin": true,
            "type": "pie"
           }
          ],
          "scatter": [
           {
            "fillpattern": {
             "fillmode": "overlay",
             "size": 10,
             "solidity": 0.2
            },
            "type": "scatter"
           }
          ],
          "scatter3d": [
           {
            "line": {
             "colorbar": {
              "outlinewidth": 0,
              "ticks": ""
             }
            },
            "marker": {
             "colorbar": {
              "outlinewidth": 0,
              "ticks": ""
             }
            },
            "type": "scatter3d"
           }
          ],
          "scattercarpet": [
           {
            "marker": {
             "colorbar": {
              "outlinewidth": 0,
              "ticks": ""
             }
            },
            "type": "scattercarpet"
           }
          ],
          "scattergeo": [
           {
            "marker": {
             "colorbar": {
              "outlinewidth": 0,
              "ticks": ""
             }
            },
            "type": "scattergeo"
           }
          ],
          "scattergl": [
           {
            "marker": {
             "colorbar": {
              "outlinewidth": 0,
              "ticks": ""
             }
            },
            "type": "scattergl"
           }
          ],
          "scattermapbox": [
           {
            "marker": {
             "colorbar": {
              "outlinewidth": 0,
              "ticks": ""
             }
            },
            "type": "scattermapbox"
           }
          ],
          "scatterpolar": [
           {
            "marker": {
             "colorbar": {
              "outlinewidth": 0,
              "ticks": ""
             }
            },
            "type": "scatterpolar"
           }
          ],
          "scatterpolargl": [
           {
            "marker": {
             "colorbar": {
              "outlinewidth": 0,
              "ticks": ""
             }
            },
            "type": "scatterpolargl"
           }
          ],
          "scatterternary": [
           {
            "marker": {
             "colorbar": {
              "outlinewidth": 0,
              "ticks": ""
             }
            },
            "type": "scatterternary"
           }
          ],
          "surface": [
           {
            "colorbar": {
             "outlinewidth": 0,
             "ticks": ""
            },
            "colorscale": [
             [
              0,
              "#0d0887"
             ],
             [
              0.1111111111111111,
              "#46039f"
             ],
             [
              0.2222222222222222,
              "#7201a8"
             ],
             [
              0.3333333333333333,
              "#9c179e"
             ],
             [
              0.4444444444444444,
              "#bd3786"
             ],
             [
              0.5555555555555556,
              "#d8576b"
             ],
             [
              0.6666666666666666,
              "#ed7953"
             ],
             [
              0.7777777777777778,
              "#fb9f3a"
             ],
             [
              0.8888888888888888,
              "#fdca26"
             ],
             [
              1,
              "#f0f921"
             ]
            ],
            "type": "surface"
           }
          ],
          "table": [
           {
            "cells": {
             "fill": {
              "color": "#EBF0F8"
             },
             "line": {
              "color": "white"
             }
            },
            "header": {
             "fill": {
              "color": "#C8D4E3"
             },
             "line": {
              "color": "white"
             }
            },
            "type": "table"
           }
          ]
         },
         "layout": {
          "annotationdefaults": {
           "arrowcolor": "#2a3f5f",
           "arrowhead": 0,
           "arrowwidth": 1
          },
          "autotypenumbers": "strict",
          "coloraxis": {
           "colorbar": {
            "outlinewidth": 0,
            "ticks": ""
           }
          },
          "colorscale": {
           "diverging": [
            [
             0,
             "#8e0152"
            ],
            [
             0.1,
             "#c51b7d"
            ],
            [
             0.2,
             "#de77ae"
            ],
            [
             0.3,
             "#f1b6da"
            ],
            [
             0.4,
             "#fde0ef"
            ],
            [
             0.5,
             "#f7f7f7"
            ],
            [
             0.6,
             "#e6f5d0"
            ],
            [
             0.7,
             "#b8e186"
            ],
            [
             0.8,
             "#7fbc41"
            ],
            [
             0.9,
             "#4d9221"
            ],
            [
             1,
             "#276419"
            ]
           ],
           "sequential": [
            [
             0,
             "#0d0887"
            ],
            [
             0.1111111111111111,
             "#46039f"
            ],
            [
             0.2222222222222222,
             "#7201a8"
            ],
            [
             0.3333333333333333,
             "#9c179e"
            ],
            [
             0.4444444444444444,
             "#bd3786"
            ],
            [
             0.5555555555555556,
             "#d8576b"
            ],
            [
             0.6666666666666666,
             "#ed7953"
            ],
            [
             0.7777777777777778,
             "#fb9f3a"
            ],
            [
             0.8888888888888888,
             "#fdca26"
            ],
            [
             1,
             "#f0f921"
            ]
           ],
           "sequentialminus": [
            [
             0,
             "#0d0887"
            ],
            [
             0.1111111111111111,
             "#46039f"
            ],
            [
             0.2222222222222222,
             "#7201a8"
            ],
            [
             0.3333333333333333,
             "#9c179e"
            ],
            [
             0.4444444444444444,
             "#bd3786"
            ],
            [
             0.5555555555555556,
             "#d8576b"
            ],
            [
             0.6666666666666666,
             "#ed7953"
            ],
            [
             0.7777777777777778,
             "#fb9f3a"
            ],
            [
             0.8888888888888888,
             "#fdca26"
            ],
            [
             1,
             "#f0f921"
            ]
           ]
          },
          "colorway": [
           "#636efa",
           "#EF553B",
           "#00cc96",
           "#ab63fa",
           "#FFA15A",
           "#19d3f3",
           "#FF6692",
           "#B6E880",
           "#FF97FF",
           "#FECB52"
          ],
          "font": {
           "color": "#2a3f5f"
          },
          "geo": {
           "bgcolor": "white",
           "lakecolor": "white",
           "landcolor": "#E5ECF6",
           "showlakes": true,
           "showland": true,
           "subunitcolor": "white"
          },
          "hoverlabel": {
           "align": "left"
          },
          "hovermode": "closest",
          "mapbox": {
           "style": "light"
          },
          "paper_bgcolor": "white",
          "plot_bgcolor": "#E5ECF6",
          "polar": {
           "angularaxis": {
            "gridcolor": "white",
            "linecolor": "white",
            "ticks": ""
           },
           "bgcolor": "#E5ECF6",
           "radialaxis": {
            "gridcolor": "white",
            "linecolor": "white",
            "ticks": ""
           }
          },
          "scene": {
           "xaxis": {
            "backgroundcolor": "#E5ECF6",
            "gridcolor": "white",
            "gridwidth": 2,
            "linecolor": "white",
            "showbackground": true,
            "ticks": "",
            "zerolinecolor": "white"
           },
           "yaxis": {
            "backgroundcolor": "#E5ECF6",
            "gridcolor": "white",
            "gridwidth": 2,
            "linecolor": "white",
            "showbackground": true,
            "ticks": "",
            "zerolinecolor": "white"
           },
           "zaxis": {
            "backgroundcolor": "#E5ECF6",
            "gridcolor": "white",
            "gridwidth": 2,
            "linecolor": "white",
            "showbackground": true,
            "ticks": "",
            "zerolinecolor": "white"
           }
          },
          "shapedefaults": {
           "line": {
            "color": "#2a3f5f"
           }
          },
          "ternary": {
           "aaxis": {
            "gridcolor": "white",
            "linecolor": "white",
            "ticks": ""
           },
           "baxis": {
            "gridcolor": "white",
            "linecolor": "white",
            "ticks": ""
           },
           "bgcolor": "#E5ECF6",
           "caxis": {
            "gridcolor": "white",
            "linecolor": "white",
            "ticks": ""
           }
          },
          "title": {
           "x": 0.05
          },
          "xaxis": {
           "automargin": true,
           "gridcolor": "white",
           "linecolor": "white",
           "ticks": "",
           "title": {
            "standoff": 15
           },
           "zerolinecolor": "white",
           "zerolinewidth": 2
          },
          "yaxis": {
           "automargin": true,
           "gridcolor": "white",
           "linecolor": "white",
           "ticks": "",
           "title": {
            "standoff": 15
           },
           "zerolinecolor": "white",
           "zerolinewidth": 2
          }
         }
        },
        "xaxis": {
         "anchor": "y",
         "domain": [
          0,
          0.45
         ]
        },
        "xaxis2": {
         "anchor": "y2",
         "domain": [
          0.55,
          1
         ]
        },
        "yaxis": {
         "anchor": "x",
         "domain": [
          0,
          1
         ]
        },
        "yaxis2": {
         "anchor": "x2",
         "domain": [
          0,
          1
         ]
        }
       }
      }
     },
     "metadata": {},
     "output_type": "display_data"
    }
   ],
   "source": [
    "from plotly.subplots import make_subplots\n",
    "import plotly.graph_objects as go\n",
    "\n",
    "fig = make_subplots(rows=1, cols=2, subplot_titles=('Memory usage (MiB)', 'Computation Time (s)'))\n",
    "\n",
    "fig.add_trace(\n",
    "    go.Bar(y=base_df[\"Mem (MiB)\"],x=base_df.index),\n",
    "    row=1, col=1\n",
    ")\n",
    "\n",
    "fig.add_trace(\n",
    "    go.Bar(y=base_df[\"Time (s)\"],x=base_df.index),\n",
    "    row=1, col=2\n",
    ")\n",
    "fig.update_layout(showlegend=False)\n",
    "fig.write_image(\"base_case_2.png\")\n",
    "fig"
   ]
  },
  {
   "attachments": {},
   "cell_type": "markdown",
   "metadata": {},
   "source": [
    "# IMPACT OF NUMBER OF INDIVIDUALS"
   ]
  },
  {
   "cell_type": "code",
   "execution_count": 5,
   "metadata": {},
   "outputs": [],
   "source": [
    "individuals = {\n",
    "    50 : {\n",
    "        \"ClustMD\": [153.89841900000005, 5.3947999477386475],\n",
    "        \"DenseClus\": [38.98828099999997, 12.313400030136108],\n",
    "        \"Phillip & Ottaway\":[18.468744000000015, 0.5903000831604004],\n",
    "        \"Kamila\":[98.800769, 0.9065999984741211],\n",
    "        \"K-Prototypes\":[18.80075599999998, 0.6665999889373779],\n",
    "        \"MixtComp\":[145.53901900000005, 1.7325999736785889],\n",
    "        \"Modha-Spangler\":[97.27348099999995, 2.331900119781494],\n",
    "        \"Pretopo-FAMD\":[51.22658799999999, 0.9841001033782959],\n",
    "        \"Pretopo-UMAP\":[68.72263099999998, 6.794800043106079],\n",
    "        \"Pretopo-PaCMAP\":[51.882825000000025, 1.1522998809814453],\n",
    "        \"PretopoMD\":[0.2929690000000278, 0.20090007781982422]\n",
    "    },\n",
    "    100 : {\n",
    "        \"ClustMD\": [159.78519400000005, 7.43939995765686],\n",
    "        \"DenseClus\": [39.757825000000025, 12.659800052642822],\n",
    "        \"Phillip & Ottaway\":[18.93751900000001, 0.6079998016357422],\n",
    "        \"Kamila\":[97.19918099999995, 0.9523000717163086],\n",
    "        \"K-Prototypes\":[19.121061999999995, 0.789600133895874],\n",
    "        \"MixtComp\":[146.33595599999995, 1.799800157546997],\n",
    "        \"Modha-Spangler\":[110.84769400000005, 3.5822999477386475],\n",
    "        \"Pretopo-FAMD\":[50.76566200000002, 1.0813000202178955],\n",
    "        \"Pretopo-UMAP\":[69.38279999999997, 6.924900054931641],\n",
    "        \"Pretopo-PaCMAP\":[51.71091900000005, 1.273900032043457],\n",
    "        \"PretopoMD\":[1.0273059999999532, 0.9865000247955322]\n",
    "    },\n",
    "    250 : {\n",
    "        \"ClustMD\": [167.75393099999997, 15.001100063323975],\n",
    "        \"DenseClus\": [39.843794, 13.854300022125244],\n",
    "        \"Phillip & Ottaway\":[20.535124999999994, 0.7360999584197998],\n",
    "        \"Kamila\":[98.19528099999997, 1.0425999164581299],\n",
    "        \"K-Prototypes\":[19.925780999999972, 1.190999984741211],\n",
    "        \"MixtComp\":[147.28519400000005, 2.002000093460083],\n",
    "        \"Modha-Spangler\":[112.04686900000002, 7.2362000942230225],\n",
    "        \"Pretopo-FAMD\":[53.92970599999995, 1.4344000816345215],\n",
    "        \"Pretopo-UMAP\":[71.75386900000001, 7.409899950027466],\n",
    "        \"Pretopo-PaCMAP\":[54.57416900000004, 1.7170000076293945],\n",
    "        \"PretopoMD\":[3.2968999999999937, 5.503100156784058]\n",
    "    },\n",
    "    500 : {\n",
    "        \"ClustMD\": [184.296919, 28.09750008583069],\n",
    "        \"DenseClus\": [42.257825000000025, 17.524900197982788],\n",
    "        \"Phillip & Ottaway\":[30.007769000000053, 1.4196999073028564],\n",
    "        \"Kamila\":[116.44922500000001, 1.6607000827789307],\n",
    "        \"K-Prototypes\":[24.589850000000013, 2.361299991607666],\n",
    "        \"MixtComp\":[153.73832499999997, 2.758500099182129],\n",
    "        \"Modha-Spangler\":[117.761731, 13.666800022125244],\n",
    "        \"Pretopo-FAMD\":[58.757799999999975, 3.3143999576568604],\n",
    "        \"Pretopo-UMAP\":[77.55470599999995, 9.262700080871582],\n",
    "        \"Pretopo-PaCMAP\":[59.472644, 3.909899950027466],\n",
    "        \"PretopoMD\":[13.164044000000047, 19.644400119781494]\n",
    "    },\n",
    "    1000 : {\n",
    "        \"ClustMD\": [202.10936199999998, 56.56280016899109],\n",
    "        \"DenseClus\": [46.242174999999975, 24.41479992866516],\n",
    "        \"Phillip & Ottaway\":[30.746137999999974, 3.5961999893188477],\n",
    "        \"Kamila\":[121.06638099999998, 3.5653998851776123],\n",
    "        \"K-Prototypes\":[26.937538000000018, 6.138000011444092],\n",
    "        \"MixtComp\":[153.74216900000005, 5.125],\n",
    "        \"Modha-Spangler\":[117.25394400000005, 27.50309991836548],\n",
    "        \"Pretopo-FAMD\":[83.195288, 7.648000001907349],\n",
    "        \"Pretopo-UMAP\":[99.60546199999999, 14.289299964904785],\n",
    "        \"Pretopo-PaCMAP\":[81.35940599999998, 8.548199892044067],\n",
    "        \"PretopoMD\":[54.386761999999976, 69.87230014801025]\n",
    "    },\n",
    "    1750 : {\n",
    "        \"ClustMD\": [213.07027499999998, 101.2829999923706],\n",
    "        \"DenseClus\": [61.47265599999997, 34.29380011558533],\n",
    "        \"Phillip & Ottaway\":[43.988238000000024, 9.441699981689453],\n",
    "        \"Kamila\":[130.43354400000004, 8.537799835205078],\n",
    "        \"K-Prototypes\":[45.79684400000002, 11.484600067138672],\n",
    "        \"MixtComp\":[156.77738799999997, 10.962299823760986],\n",
    "        \"Modha-Spangler\":[120.81645599999996, 50.71059989929199],\n",
    "        \"Pretopo-FAMD\":[180.16410599999995, 16.594300031661987],\n",
    "        \"Pretopo-UMAP\":[176.109375, 28.564499855041504],\n",
    "        \"Pretopo-PaCMAP\":[150.238244, 21.41849994659424],\n",
    "        \"PretopoMD\":[166.22265599999997, 215.3027000427246]\n",
    "    },\n",
    "    2500 : {\n",
    "        \"ClustMD\": [225.593725, 149.09089994430542],\n",
    "        \"DenseClus\": [89.62498799999997, 47.73539996147156],\n",
    "        \"Phillip & Ottaway\":[133.199212, 17.837599992752075],\n",
    "        \"Kamila\":[111.61714999999998, 16.02020001411438],\n",
    "        \"K-Prototypes\":[82.55082499999997, 21.018100023269653],\n",
    "        \"MixtComp\":[158.757812, 18.175600051879883],\n",
    "        \"Modha-Spangler\":[119.48823099999998, 76.02270007133484],\n",
    "        \"Pretopo-FAMD\":[348.1719, 42.92490005493164],\n",
    "        \"Pretopo-UMAP\":[328.29293800000005, 69.36849999427795],\n",
    "        \"Pretopo-PaCMAP\":[298.63671899999997, 46.4109001159668],\n",
    "        \"PretopoMD\":[303.10935600000005, 341.7800998687744]\n",
    "    },\n",
    "    5000 : {\n",
    "        \"ClustMD\": [289.773481, 341.10430002212524],\n",
    "        \"DenseClus\": [175.769494, 79.72909998893738],\n",
    "        \"Phillip & Ottaway\":[461.88671199999993, 69.62489986419678],\n",
    "        \"Kamila\":[298.74998100000005, 61.2318000793457],\n",
    "        \"K-Prototypes\":[301.464794, 73.57969999313354],\n",
    "        \"MixtComp\":[291.9413880000001, 64.41799998283386],\n",
    "        \"Modha-Spangler\":[294.164031, 178.10319995880127],\n",
    "        \"Pretopo-FAMD\":[2017.824219, 176.59529995918274],\n",
    "        \"Pretopo-UMAP\":[1405.499994, 423.83930015563965],\n",
    "        \"Pretopo-PaCMAP\":[1165.1367559999999, 243.81610012054443],\n",
    "        \"PretopoMD\":[1259.957025, 1373.0801000595093]\n",
    "    }\n",
    "}"
   ]
  },
  {
   "cell_type": "code",
   "execution_count": 6,
   "metadata": {},
   "outputs": [
    {
     "data": {
      "text/plain": [
       "[153.89841900000005, 5.3947999477386475]"
      ]
     },
     "execution_count": 6,
     "metadata": {},
     "output_type": "execute_result"
    }
   ],
   "source": [
    "individuals[50]['ClustMD']"
   ]
  },
  {
   "cell_type": "code",
   "execution_count": 7,
   "metadata": {},
   "outputs": [
    {
     "data": {
      "application/vnd.plotly.v1+json": {
       "config": {
        "plotlyServerURL": "https://plot.ly"
       },
       "data": [
        {
         "hovertemplate": "variable=ClustMD<br>index=%{x}<br>value=%{y}<extra></extra>",
         "legendgroup": "ClustMD",
         "line": {
          "color": "#636efa",
          "dash": "solid"
         },
         "marker": {
          "symbol": "circle"
         },
         "mode": "markers+lines",
         "name": "ClustMD",
         "orientation": "v",
         "showlegend": true,
         "type": "scatter",
         "x": [
          50,
          100,
          250,
          500,
          1000,
          1750,
          2500,
          5000
         ],
         "xaxis": "x",
         "y": [
          153.89841900000005,
          159.78519400000005,
          167.75393099999997,
          184.296919,
          202.10936199999998,
          213.07027499999998,
          225.593725,
          289.773481
         ],
         "yaxis": "y"
        },
        {
         "hovertemplate": "variable=DenseClus<br>index=%{x}<br>value=%{y}<extra></extra>",
         "legendgroup": "DenseClus",
         "line": {
          "color": "#EF553B",
          "dash": "solid"
         },
         "marker": {
          "symbol": "circle"
         },
         "mode": "markers+lines",
         "name": "DenseClus",
         "orientation": "v",
         "showlegend": true,
         "type": "scatter",
         "x": [
          50,
          100,
          250,
          500,
          1000,
          1750,
          2500,
          5000
         ],
         "xaxis": "x",
         "y": [
          38.98828099999997,
          39.757825000000025,
          39.843794,
          42.257825000000025,
          46.242174999999975,
          61.47265599999997,
          89.62498799999997,
          175.769494
         ],
         "yaxis": "y"
        },
        {
         "hovertemplate": "variable=Phillip & Ottaway<br>index=%{x}<br>value=%{y}<extra></extra>",
         "legendgroup": "Phillip & Ottaway",
         "line": {
          "color": "#00cc96",
          "dash": "solid"
         },
         "marker": {
          "symbol": "circle"
         },
         "mode": "markers+lines",
         "name": "Phillip & Ottaway",
         "orientation": "v",
         "showlegend": true,
         "type": "scatter",
         "x": [
          50,
          100,
          250,
          500,
          1000,
          1750,
          2500,
          5000
         ],
         "xaxis": "x",
         "y": [
          18.468744000000015,
          18.93751900000001,
          20.535124999999994,
          30.007769000000053,
          30.746137999999974,
          43.988238000000024,
          133.199212,
          461.88671199999993
         ],
         "yaxis": "y"
        },
        {
         "hovertemplate": "variable=Kamila<br>index=%{x}<br>value=%{y}<extra></extra>",
         "legendgroup": "Kamila",
         "line": {
          "color": "#ab63fa",
          "dash": "solid"
         },
         "marker": {
          "symbol": "circle"
         },
         "mode": "markers+lines",
         "name": "Kamila",
         "orientation": "v",
         "showlegend": true,
         "type": "scatter",
         "x": [
          50,
          100,
          250,
          500,
          1000,
          1750,
          2500,
          5000
         ],
         "xaxis": "x",
         "y": [
          98.800769,
          97.19918099999995,
          98.19528099999997,
          116.44922500000001,
          121.06638099999998,
          130.43354400000004,
          111.61714999999998,
          298.74998100000005
         ],
         "yaxis": "y"
        },
        {
         "hovertemplate": "variable=K-Prototypes<br>index=%{x}<br>value=%{y}<extra></extra>",
         "legendgroup": "K-Prototypes",
         "line": {
          "color": "#FFA15A",
          "dash": "solid"
         },
         "marker": {
          "symbol": "circle"
         },
         "mode": "markers+lines",
         "name": "K-Prototypes",
         "orientation": "v",
         "showlegend": true,
         "type": "scatter",
         "x": [
          50,
          100,
          250,
          500,
          1000,
          1750,
          2500,
          5000
         ],
         "xaxis": "x",
         "y": [
          18.80075599999998,
          19.121061999999995,
          19.925780999999972,
          24.589850000000013,
          26.937538000000018,
          45.79684400000002,
          82.55082499999997,
          301.464794
         ],
         "yaxis": "y"
        },
        {
         "hovertemplate": "variable=MixtComp<br>index=%{x}<br>value=%{y}<extra></extra>",
         "legendgroup": "MixtComp",
         "line": {
          "color": "#19d3f3",
          "dash": "solid"
         },
         "marker": {
          "symbol": "circle"
         },
         "mode": "markers+lines",
         "name": "MixtComp",
         "orientation": "v",
         "showlegend": true,
         "type": "scatter",
         "x": [
          50,
          100,
          250,
          500,
          1000,
          1750,
          2500,
          5000
         ],
         "xaxis": "x",
         "y": [
          145.53901900000005,
          146.33595599999995,
          147.28519400000005,
          153.73832499999997,
          153.74216900000005,
          156.77738799999997,
          158.757812,
          291.9413880000001
         ],
         "yaxis": "y"
        },
        {
         "hovertemplate": "variable=Modha-Spangler<br>index=%{x}<br>value=%{y}<extra></extra>",
         "legendgroup": "Modha-Spangler",
         "line": {
          "color": "#FF6692",
          "dash": "solid"
         },
         "marker": {
          "symbol": "circle"
         },
         "mode": "markers+lines",
         "name": "Modha-Spangler",
         "orientation": "v",
         "showlegend": true,
         "type": "scatter",
         "x": [
          50,
          100,
          250,
          500,
          1000,
          1750,
          2500,
          5000
         ],
         "xaxis": "x",
         "y": [
          97.27348099999995,
          110.84769400000005,
          112.04686900000002,
          117.761731,
          117.25394400000005,
          120.81645599999996,
          119.48823099999998,
          294.164031
         ],
         "yaxis": "y"
        },
        {
         "hovertemplate": "variable=Pretopo-FAMD<br>index=%{x}<br>value=%{y}<extra></extra>",
         "legendgroup": "Pretopo-FAMD",
         "line": {
          "color": "#B6E880",
          "dash": "solid"
         },
         "marker": {
          "symbol": "circle"
         },
         "mode": "markers+lines",
         "name": "Pretopo-FAMD",
         "orientation": "v",
         "showlegend": true,
         "type": "scatter",
         "x": [
          50,
          100,
          250,
          500,
          1000,
          1750,
          2500,
          5000
         ],
         "xaxis": "x",
         "y": [
          51.22658799999999,
          50.76566200000002,
          53.92970599999995,
          58.757799999999975,
          83.195288,
          180.16410599999995,
          348.1719,
          2017.824219
         ],
         "yaxis": "y"
        },
        {
         "hovertemplate": "variable=Pretopo-UMAP<br>index=%{x}<br>value=%{y}<extra></extra>",
         "legendgroup": "Pretopo-UMAP",
         "line": {
          "color": "#FF97FF",
          "dash": "solid"
         },
         "marker": {
          "symbol": "circle"
         },
         "mode": "markers+lines",
         "name": "Pretopo-UMAP",
         "orientation": "v",
         "showlegend": true,
         "type": "scatter",
         "x": [
          50,
          100,
          250,
          500,
          1000,
          1750,
          2500,
          5000
         ],
         "xaxis": "x",
         "y": [
          68.72263099999998,
          69.38279999999997,
          71.75386900000001,
          77.55470599999995,
          99.60546199999999,
          176.109375,
          328.29293800000005,
          1405.499994
         ],
         "yaxis": "y"
        },
        {
         "hovertemplate": "variable=Pretopo-PaCMAP<br>index=%{x}<br>value=%{y}<extra></extra>",
         "legendgroup": "Pretopo-PaCMAP",
         "line": {
          "color": "#FECB52",
          "dash": "solid"
         },
         "marker": {
          "symbol": "circle"
         },
         "mode": "markers+lines",
         "name": "Pretopo-PaCMAP",
         "orientation": "v",
         "showlegend": true,
         "type": "scatter",
         "x": [
          50,
          100,
          250,
          500,
          1000,
          1750,
          2500,
          5000
         ],
         "xaxis": "x",
         "y": [
          51.882825000000025,
          51.71091900000005,
          54.57416900000004,
          59.472644,
          81.35940599999998,
          150.238244,
          298.63671899999997,
          1165.1367559999999
         ],
         "yaxis": "y"
        },
        {
         "hovertemplate": "variable=PretopoMD<br>index=%{x}<br>value=%{y}<extra></extra>",
         "legendgroup": "PretopoMD",
         "line": {
          "color": "#636efa",
          "dash": "solid"
         },
         "marker": {
          "symbol": "circle"
         },
         "mode": "markers+lines",
         "name": "PretopoMD",
         "orientation": "v",
         "showlegend": true,
         "type": "scatter",
         "x": [
          50,
          100,
          250,
          500,
          1000,
          1750,
          2500,
          5000
         ],
         "xaxis": "x",
         "y": [
          0.2929690000000278,
          1.0273059999999532,
          3.2968999999999937,
          13.164044000000047,
          54.386761999999976,
          166.22265599999997,
          303.10935600000005,
          1259.957025
         ],
         "yaxis": "y"
        }
       ],
       "layout": {
        "legend": {
         "title": {
          "text": "Algorithm"
         },
         "tracegroupgap": 0
        },
        "margin": {
         "t": 60
        },
        "template": {
         "data": {
          "bar": [
           {
            "error_x": {
             "color": "#2a3f5f"
            },
            "error_y": {
             "color": "#2a3f5f"
            },
            "marker": {
             "line": {
              "color": "#E5ECF6",
              "width": 0.5
             },
             "pattern": {
              "fillmode": "overlay",
              "size": 10,
              "solidity": 0.2
             }
            },
            "type": "bar"
           }
          ],
          "barpolar": [
           {
            "marker": {
             "line": {
              "color": "#E5ECF6",
              "width": 0.5
             },
             "pattern": {
              "fillmode": "overlay",
              "size": 10,
              "solidity": 0.2
             }
            },
            "type": "barpolar"
           }
          ],
          "carpet": [
           {
            "aaxis": {
             "endlinecolor": "#2a3f5f",
             "gridcolor": "white",
             "linecolor": "white",
             "minorgridcolor": "white",
             "startlinecolor": "#2a3f5f"
            },
            "baxis": {
             "endlinecolor": "#2a3f5f",
             "gridcolor": "white",
             "linecolor": "white",
             "minorgridcolor": "white",
             "startlinecolor": "#2a3f5f"
            },
            "type": "carpet"
           }
          ],
          "choropleth": [
           {
            "colorbar": {
             "outlinewidth": 0,
             "ticks": ""
            },
            "type": "choropleth"
           }
          ],
          "contour": [
           {
            "colorbar": {
             "outlinewidth": 0,
             "ticks": ""
            },
            "colorscale": [
             [
              0,
              "#0d0887"
             ],
             [
              0.1111111111111111,
              "#46039f"
             ],
             [
              0.2222222222222222,
              "#7201a8"
             ],
             [
              0.3333333333333333,
              "#9c179e"
             ],
             [
              0.4444444444444444,
              "#bd3786"
             ],
             [
              0.5555555555555556,
              "#d8576b"
             ],
             [
              0.6666666666666666,
              "#ed7953"
             ],
             [
              0.7777777777777778,
              "#fb9f3a"
             ],
             [
              0.8888888888888888,
              "#fdca26"
             ],
             [
              1,
              "#f0f921"
             ]
            ],
            "type": "contour"
           }
          ],
          "contourcarpet": [
           {
            "colorbar": {
             "outlinewidth": 0,
             "ticks": ""
            },
            "type": "contourcarpet"
           }
          ],
          "heatmap": [
           {
            "colorbar": {
             "outlinewidth": 0,
             "ticks": ""
            },
            "colorscale": [
             [
              0,
              "#0d0887"
             ],
             [
              0.1111111111111111,
              "#46039f"
             ],
             [
              0.2222222222222222,
              "#7201a8"
             ],
             [
              0.3333333333333333,
              "#9c179e"
             ],
             [
              0.4444444444444444,
              "#bd3786"
             ],
             [
              0.5555555555555556,
              "#d8576b"
             ],
             [
              0.6666666666666666,
              "#ed7953"
             ],
             [
              0.7777777777777778,
              "#fb9f3a"
             ],
             [
              0.8888888888888888,
              "#fdca26"
             ],
             [
              1,
              "#f0f921"
             ]
            ],
            "type": "heatmap"
           }
          ],
          "heatmapgl": [
           {
            "colorbar": {
             "outlinewidth": 0,
             "ticks": ""
            },
            "colorscale": [
             [
              0,
              "#0d0887"
             ],
             [
              0.1111111111111111,
              "#46039f"
             ],
             [
              0.2222222222222222,
              "#7201a8"
             ],
             [
              0.3333333333333333,
              "#9c179e"
             ],
             [
              0.4444444444444444,
              "#bd3786"
             ],
             [
              0.5555555555555556,
              "#d8576b"
             ],
             [
              0.6666666666666666,
              "#ed7953"
             ],
             [
              0.7777777777777778,
              "#fb9f3a"
             ],
             [
              0.8888888888888888,
              "#fdca26"
             ],
             [
              1,
              "#f0f921"
             ]
            ],
            "type": "heatmapgl"
           }
          ],
          "histogram": [
           {
            "marker": {
             "pattern": {
              "fillmode": "overlay",
              "size": 10,
              "solidity": 0.2
             }
            },
            "type": "histogram"
           }
          ],
          "histogram2d": [
           {
            "colorbar": {
             "outlinewidth": 0,
             "ticks": ""
            },
            "colorscale": [
             [
              0,
              "#0d0887"
             ],
             [
              0.1111111111111111,
              "#46039f"
             ],
             [
              0.2222222222222222,
              "#7201a8"
             ],
             [
              0.3333333333333333,
              "#9c179e"
             ],
             [
              0.4444444444444444,
              "#bd3786"
             ],
             [
              0.5555555555555556,
              "#d8576b"
             ],
             [
              0.6666666666666666,
              "#ed7953"
             ],
             [
              0.7777777777777778,
              "#fb9f3a"
             ],
             [
              0.8888888888888888,
              "#fdca26"
             ],
             [
              1,
              "#f0f921"
             ]
            ],
            "type": "histogram2d"
           }
          ],
          "histogram2dcontour": [
           {
            "colorbar": {
             "outlinewidth": 0,
             "ticks": ""
            },
            "colorscale": [
             [
              0,
              "#0d0887"
             ],
             [
              0.1111111111111111,
              "#46039f"
             ],
             [
              0.2222222222222222,
              "#7201a8"
             ],
             [
              0.3333333333333333,
              "#9c179e"
             ],
             [
              0.4444444444444444,
              "#bd3786"
             ],
             [
              0.5555555555555556,
              "#d8576b"
             ],
             [
              0.6666666666666666,
              "#ed7953"
             ],
             [
              0.7777777777777778,
              "#fb9f3a"
             ],
             [
              0.8888888888888888,
              "#fdca26"
             ],
             [
              1,
              "#f0f921"
             ]
            ],
            "type": "histogram2dcontour"
           }
          ],
          "mesh3d": [
           {
            "colorbar": {
             "outlinewidth": 0,
             "ticks": ""
            },
            "type": "mesh3d"
           }
          ],
          "parcoords": [
           {
            "line": {
             "colorbar": {
              "outlinewidth": 0,
              "ticks": ""
             }
            },
            "type": "parcoords"
           }
          ],
          "pie": [
           {
            "automargin": true,
            "type": "pie"
           }
          ],
          "scatter": [
           {
            "fillpattern": {
             "fillmode": "overlay",
             "size": 10,
             "solidity": 0.2
            },
            "type": "scatter"
           }
          ],
          "scatter3d": [
           {
            "line": {
             "colorbar": {
              "outlinewidth": 0,
              "ticks": ""
             }
            },
            "marker": {
             "colorbar": {
              "outlinewidth": 0,
              "ticks": ""
             }
            },
            "type": "scatter3d"
           }
          ],
          "scattercarpet": [
           {
            "marker": {
             "colorbar": {
              "outlinewidth": 0,
              "ticks": ""
             }
            },
            "type": "scattercarpet"
           }
          ],
          "scattergeo": [
           {
            "marker": {
             "colorbar": {
              "outlinewidth": 0,
              "ticks": ""
             }
            },
            "type": "scattergeo"
           }
          ],
          "scattergl": [
           {
            "marker": {
             "colorbar": {
              "outlinewidth": 0,
              "ticks": ""
             }
            },
            "type": "scattergl"
           }
          ],
          "scattermapbox": [
           {
            "marker": {
             "colorbar": {
              "outlinewidth": 0,
              "ticks": ""
             }
            },
            "type": "scattermapbox"
           }
          ],
          "scatterpolar": [
           {
            "marker": {
             "colorbar": {
              "outlinewidth": 0,
              "ticks": ""
             }
            },
            "type": "scatterpolar"
           }
          ],
          "scatterpolargl": [
           {
            "marker": {
             "colorbar": {
              "outlinewidth": 0,
              "ticks": ""
             }
            },
            "type": "scatterpolargl"
           }
          ],
          "scatterternary": [
           {
            "marker": {
             "colorbar": {
              "outlinewidth": 0,
              "ticks": ""
             }
            },
            "type": "scatterternary"
           }
          ],
          "surface": [
           {
            "colorbar": {
             "outlinewidth": 0,
             "ticks": ""
            },
            "colorscale": [
             [
              0,
              "#0d0887"
             ],
             [
              0.1111111111111111,
              "#46039f"
             ],
             [
              0.2222222222222222,
              "#7201a8"
             ],
             [
              0.3333333333333333,
              "#9c179e"
             ],
             [
              0.4444444444444444,
              "#bd3786"
             ],
             [
              0.5555555555555556,
              "#d8576b"
             ],
             [
              0.6666666666666666,
              "#ed7953"
             ],
             [
              0.7777777777777778,
              "#fb9f3a"
             ],
             [
              0.8888888888888888,
              "#fdca26"
             ],
             [
              1,
              "#f0f921"
             ]
            ],
            "type": "surface"
           }
          ],
          "table": [
           {
            "cells": {
             "fill": {
              "color": "#EBF0F8"
             },
             "line": {
              "color": "white"
             }
            },
            "header": {
             "fill": {
              "color": "#C8D4E3"
             },
             "line": {
              "color": "white"
             }
            },
            "type": "table"
           }
          ]
         },
         "layout": {
          "annotationdefaults": {
           "arrowcolor": "#2a3f5f",
           "arrowhead": 0,
           "arrowwidth": 1
          },
          "autotypenumbers": "strict",
          "coloraxis": {
           "colorbar": {
            "outlinewidth": 0,
            "ticks": ""
           }
          },
          "colorscale": {
           "diverging": [
            [
             0,
             "#8e0152"
            ],
            [
             0.1,
             "#c51b7d"
            ],
            [
             0.2,
             "#de77ae"
            ],
            [
             0.3,
             "#f1b6da"
            ],
            [
             0.4,
             "#fde0ef"
            ],
            [
             0.5,
             "#f7f7f7"
            ],
            [
             0.6,
             "#e6f5d0"
            ],
            [
             0.7,
             "#b8e186"
            ],
            [
             0.8,
             "#7fbc41"
            ],
            [
             0.9,
             "#4d9221"
            ],
            [
             1,
             "#276419"
            ]
           ],
           "sequential": [
            [
             0,
             "#0d0887"
            ],
            [
             0.1111111111111111,
             "#46039f"
            ],
            [
             0.2222222222222222,
             "#7201a8"
            ],
            [
             0.3333333333333333,
             "#9c179e"
            ],
            [
             0.4444444444444444,
             "#bd3786"
            ],
            [
             0.5555555555555556,
             "#d8576b"
            ],
            [
             0.6666666666666666,
             "#ed7953"
            ],
            [
             0.7777777777777778,
             "#fb9f3a"
            ],
            [
             0.8888888888888888,
             "#fdca26"
            ],
            [
             1,
             "#f0f921"
            ]
           ],
           "sequentialminus": [
            [
             0,
             "#0d0887"
            ],
            [
             0.1111111111111111,
             "#46039f"
            ],
            [
             0.2222222222222222,
             "#7201a8"
            ],
            [
             0.3333333333333333,
             "#9c179e"
            ],
            [
             0.4444444444444444,
             "#bd3786"
            ],
            [
             0.5555555555555556,
             "#d8576b"
            ],
            [
             0.6666666666666666,
             "#ed7953"
            ],
            [
             0.7777777777777778,
             "#fb9f3a"
            ],
            [
             0.8888888888888888,
             "#fdca26"
            ],
            [
             1,
             "#f0f921"
            ]
           ]
          },
          "colorway": [
           "#636efa",
           "#EF553B",
           "#00cc96",
           "#ab63fa",
           "#FFA15A",
           "#19d3f3",
           "#FF6692",
           "#B6E880",
           "#FF97FF",
           "#FECB52"
          ],
          "font": {
           "color": "#2a3f5f"
          },
          "geo": {
           "bgcolor": "white",
           "lakecolor": "white",
           "landcolor": "#E5ECF6",
           "showlakes": true,
           "showland": true,
           "subunitcolor": "white"
          },
          "hoverlabel": {
           "align": "left"
          },
          "hovermode": "closest",
          "mapbox": {
           "style": "light"
          },
          "paper_bgcolor": "white",
          "plot_bgcolor": "#E5ECF6",
          "polar": {
           "angularaxis": {
            "gridcolor": "white",
            "linecolor": "white",
            "ticks": ""
           },
           "bgcolor": "#E5ECF6",
           "radialaxis": {
            "gridcolor": "white",
            "linecolor": "white",
            "ticks": ""
           }
          },
          "scene": {
           "xaxis": {
            "backgroundcolor": "#E5ECF6",
            "gridcolor": "white",
            "gridwidth": 2,
            "linecolor": "white",
            "showbackground": true,
            "ticks": "",
            "zerolinecolor": "white"
           },
           "yaxis": {
            "backgroundcolor": "#E5ECF6",
            "gridcolor": "white",
            "gridwidth": 2,
            "linecolor": "white",
            "showbackground": true,
            "ticks": "",
            "zerolinecolor": "white"
           },
           "zaxis": {
            "backgroundcolor": "#E5ECF6",
            "gridcolor": "white",
            "gridwidth": 2,
            "linecolor": "white",
            "showbackground": true,
            "ticks": "",
            "zerolinecolor": "white"
           }
          },
          "shapedefaults": {
           "line": {
            "color": "#2a3f5f"
           }
          },
          "ternary": {
           "aaxis": {
            "gridcolor": "white",
            "linecolor": "white",
            "ticks": ""
           },
           "baxis": {
            "gridcolor": "white",
            "linecolor": "white",
            "ticks": ""
           },
           "bgcolor": "#E5ECF6",
           "caxis": {
            "gridcolor": "white",
            "linecolor": "white",
            "ticks": ""
           }
          },
          "title": {
           "x": 0.05
          },
          "xaxis": {
           "automargin": true,
           "gridcolor": "white",
           "linecolor": "white",
           "ticks": "",
           "title": {
            "standoff": 15
           },
           "zerolinecolor": "white",
           "zerolinewidth": 2
          },
          "yaxis": {
           "automargin": true,
           "gridcolor": "white",
           "linecolor": "white",
           "ticks": "",
           "title": {
            "standoff": 15
           },
           "zerolinecolor": "white",
           "zerolinewidth": 2
          }
         }
        },
        "xaxis": {
         "anchor": "y",
         "domain": [
          0,
          1
         ],
         "title": {
          "text": "Number of individuals"
         }
        },
        "yaxis": {
         "anchor": "x",
         "domain": [
          0,
          1
         ],
         "title": {
          "text": "Maximum Memory Usage (MiB)"
         }
        }
       }
      }
     },
     "metadata": {},
     "output_type": "display_data"
    }
   ],
   "source": [
    "nn = [50,100,250,500,1000,1750,2500,5000]\n",
    "indiv_df = pd.DataFrame.from_dict(individuals)[nn]\n",
    "indiv_mem = indiv_df.apply(lambda x: x.str[0]).T\n",
    "fig = px.line(data_frame=indiv_mem,markers=\"*\")\n",
    "fig.update_layout(legend_title_text='Algorithm')\n",
    "fig.update_xaxes(title=\"Number of individuals\")\n",
    "fig.update_yaxes(title=\"Maximum Memory Usage (MiB)\")\n",
    "fig"
   ]
  },
  {
   "cell_type": "code",
   "execution_count": 8,
   "metadata": {},
   "outputs": [
    {
     "data": {
      "application/vnd.plotly.v1+json": {
       "config": {
        "plotlyServerURL": "https://plot.ly"
       },
       "data": [
        {
         "hovertemplate": "variable=ClustMD<br>index=%{x}<br>value=%{y}<extra></extra>",
         "legendgroup": "ClustMD",
         "line": {
          "color": "#636efa",
          "dash": "solid"
         },
         "marker": {
          "symbol": "circle"
         },
         "mode": "markers+lines",
         "name": "ClustMD",
         "orientation": "v",
         "showlegend": true,
         "type": "scatter",
         "x": [
          50,
          100,
          250,
          500,
          1000,
          1750,
          2500,
          5000
         ],
         "xaxis": "x",
         "y": [
          5.3947999477386475,
          7.43939995765686,
          15.001100063323975,
          28.09750008583069,
          56.56280016899109,
          101.2829999923706,
          149.09089994430542,
          341.10430002212524
         ],
         "yaxis": "y"
        },
        {
         "hovertemplate": "variable=DenseClus<br>index=%{x}<br>value=%{y}<extra></extra>",
         "legendgroup": "DenseClus",
         "line": {
          "color": "#EF553B",
          "dash": "solid"
         },
         "marker": {
          "symbol": "circle"
         },
         "mode": "markers+lines",
         "name": "DenseClus",
         "orientation": "v",
         "showlegend": true,
         "type": "scatter",
         "x": [
          50,
          100,
          250,
          500,
          1000,
          1750,
          2500,
          5000
         ],
         "xaxis": "x",
         "y": [
          12.313400030136108,
          12.659800052642822,
          13.854300022125244,
          17.524900197982788,
          24.41479992866516,
          34.29380011558533,
          47.73539996147156,
          79.72909998893738
         ],
         "yaxis": "y"
        },
        {
         "hovertemplate": "variable=Phillip & Ottaway<br>index=%{x}<br>value=%{y}<extra></extra>",
         "legendgroup": "Phillip & Ottaway",
         "line": {
          "color": "#00cc96",
          "dash": "solid"
         },
         "marker": {
          "symbol": "circle"
         },
         "mode": "markers+lines",
         "name": "Phillip & Ottaway",
         "orientation": "v",
         "showlegend": true,
         "type": "scatter",
         "x": [
          50,
          100,
          250,
          500,
          1000,
          1750,
          2500,
          5000
         ],
         "xaxis": "x",
         "y": [
          0.5903000831604004,
          0.6079998016357422,
          0.7360999584197998,
          1.4196999073028564,
          3.5961999893188477,
          9.441699981689453,
          17.837599992752075,
          69.62489986419678
         ],
         "yaxis": "y"
        },
        {
         "hovertemplate": "variable=Kamila<br>index=%{x}<br>value=%{y}<extra></extra>",
         "legendgroup": "Kamila",
         "line": {
          "color": "#ab63fa",
          "dash": "solid"
         },
         "marker": {
          "symbol": "circle"
         },
         "mode": "markers+lines",
         "name": "Kamila",
         "orientation": "v",
         "showlegend": true,
         "type": "scatter",
         "x": [
          50,
          100,
          250,
          500,
          1000,
          1750,
          2500,
          5000
         ],
         "xaxis": "x",
         "y": [
          0.9065999984741211,
          0.9523000717163086,
          1.0425999164581299,
          1.6607000827789307,
          3.5653998851776123,
          8.537799835205078,
          16.02020001411438,
          61.2318000793457
         ],
         "yaxis": "y"
        },
        {
         "hovertemplate": "variable=K-Prototypes<br>index=%{x}<br>value=%{y}<extra></extra>",
         "legendgroup": "K-Prototypes",
         "line": {
          "color": "#FFA15A",
          "dash": "solid"
         },
         "marker": {
          "symbol": "circle"
         },
         "mode": "markers+lines",
         "name": "K-Prototypes",
         "orientation": "v",
         "showlegend": true,
         "type": "scatter",
         "x": [
          50,
          100,
          250,
          500,
          1000,
          1750,
          2500,
          5000
         ],
         "xaxis": "x",
         "y": [
          0.6665999889373779,
          0.789600133895874,
          1.190999984741211,
          2.361299991607666,
          6.138000011444092,
          11.484600067138672,
          21.018100023269653,
          73.57969999313354
         ],
         "yaxis": "y"
        },
        {
         "hovertemplate": "variable=MixtComp<br>index=%{x}<br>value=%{y}<extra></extra>",
         "legendgroup": "MixtComp",
         "line": {
          "color": "#19d3f3",
          "dash": "solid"
         },
         "marker": {
          "symbol": "circle"
         },
         "mode": "markers+lines",
         "name": "MixtComp",
         "orientation": "v",
         "showlegend": true,
         "type": "scatter",
         "x": [
          50,
          100,
          250,
          500,
          1000,
          1750,
          2500,
          5000
         ],
         "xaxis": "x",
         "y": [
          1.7325999736785889,
          1.799800157546997,
          2.002000093460083,
          2.758500099182129,
          5.125,
          10.962299823760986,
          18.175600051879883,
          64.41799998283386
         ],
         "yaxis": "y"
        },
        {
         "hovertemplate": "variable=Modha-Spangler<br>index=%{x}<br>value=%{y}<extra></extra>",
         "legendgroup": "Modha-Spangler",
         "line": {
          "color": "#FF6692",
          "dash": "solid"
         },
         "marker": {
          "symbol": "circle"
         },
         "mode": "markers+lines",
         "name": "Modha-Spangler",
         "orientation": "v",
         "showlegend": true,
         "type": "scatter",
         "x": [
          50,
          100,
          250,
          500,
          1000,
          1750,
          2500,
          5000
         ],
         "xaxis": "x",
         "y": [
          2.331900119781494,
          3.5822999477386475,
          7.2362000942230225,
          13.666800022125244,
          27.50309991836548,
          50.71059989929199,
          76.02270007133484,
          178.10319995880127
         ],
         "yaxis": "y"
        },
        {
         "hovertemplate": "variable=Pretopo-FAMD<br>index=%{x}<br>value=%{y}<extra></extra>",
         "legendgroup": "Pretopo-FAMD",
         "line": {
          "color": "#B6E880",
          "dash": "solid"
         },
         "marker": {
          "symbol": "circle"
         },
         "mode": "markers+lines",
         "name": "Pretopo-FAMD",
         "orientation": "v",
         "showlegend": true,
         "type": "scatter",
         "x": [
          50,
          100,
          250,
          500,
          1000,
          1750,
          2500,
          5000
         ],
         "xaxis": "x",
         "y": [
          0.9841001033782959,
          1.0813000202178955,
          1.4344000816345215,
          3.3143999576568604,
          7.648000001907349,
          16.594300031661987,
          42.92490005493164,
          176.59529995918274
         ],
         "yaxis": "y"
        },
        {
         "hovertemplate": "variable=Pretopo-UMAP<br>index=%{x}<br>value=%{y}<extra></extra>",
         "legendgroup": "Pretopo-UMAP",
         "line": {
          "color": "#FF97FF",
          "dash": "solid"
         },
         "marker": {
          "symbol": "circle"
         },
         "mode": "markers+lines",
         "name": "Pretopo-UMAP",
         "orientation": "v",
         "showlegend": true,
         "type": "scatter",
         "x": [
          50,
          100,
          250,
          500,
          1000,
          1750,
          2500,
          5000
         ],
         "xaxis": "x",
         "y": [
          6.794800043106079,
          6.924900054931641,
          7.409899950027466,
          9.262700080871582,
          14.289299964904785,
          28.564499855041504,
          69.36849999427795,
          423.83930015563965
         ],
         "yaxis": "y"
        },
        {
         "hovertemplate": "variable=Pretopo-PaCMAP<br>index=%{x}<br>value=%{y}<extra></extra>",
         "legendgroup": "Pretopo-PaCMAP",
         "line": {
          "color": "#FECB52",
          "dash": "solid"
         },
         "marker": {
          "symbol": "circle"
         },
         "mode": "markers+lines",
         "name": "Pretopo-PaCMAP",
         "orientation": "v",
         "showlegend": true,
         "type": "scatter",
         "x": [
          50,
          100,
          250,
          500,
          1000,
          1750,
          2500,
          5000
         ],
         "xaxis": "x",
         "y": [
          1.1522998809814453,
          1.273900032043457,
          1.7170000076293945,
          3.909899950027466,
          8.548199892044067,
          21.41849994659424,
          46.4109001159668,
          243.81610012054443
         ],
         "yaxis": "y"
        },
        {
         "hovertemplate": "variable=PretopoMD<br>index=%{x}<br>value=%{y}<extra></extra>",
         "legendgroup": "PretopoMD",
         "line": {
          "color": "#636efa",
          "dash": "solid"
         },
         "marker": {
          "symbol": "circle"
         },
         "mode": "markers+lines",
         "name": "PretopoMD",
         "orientation": "v",
         "showlegend": true,
         "type": "scatter",
         "x": [
          50,
          100,
          250,
          500,
          1000,
          1750,
          2500,
          5000
         ],
         "xaxis": "x",
         "y": [
          0.20090007781982422,
          0.9865000247955322,
          5.503100156784058,
          19.644400119781494,
          69.87230014801025,
          215.3027000427246,
          341.7800998687744,
          1373.0801000595093
         ],
         "yaxis": "y"
        }
       ],
       "layout": {
        "legend": {
         "title": {
          "text": "Algorithm"
         },
         "tracegroupgap": 0
        },
        "margin": {
         "t": 60
        },
        "template": {
         "data": {
          "bar": [
           {
            "error_x": {
             "color": "#2a3f5f"
            },
            "error_y": {
             "color": "#2a3f5f"
            },
            "marker": {
             "line": {
              "color": "#E5ECF6",
              "width": 0.5
             },
             "pattern": {
              "fillmode": "overlay",
              "size": 10,
              "solidity": 0.2
             }
            },
            "type": "bar"
           }
          ],
          "barpolar": [
           {
            "marker": {
             "line": {
              "color": "#E5ECF6",
              "width": 0.5
             },
             "pattern": {
              "fillmode": "overlay",
              "size": 10,
              "solidity": 0.2
             }
            },
            "type": "barpolar"
           }
          ],
          "carpet": [
           {
            "aaxis": {
             "endlinecolor": "#2a3f5f",
             "gridcolor": "white",
             "linecolor": "white",
             "minorgridcolor": "white",
             "startlinecolor": "#2a3f5f"
            },
            "baxis": {
             "endlinecolor": "#2a3f5f",
             "gridcolor": "white",
             "linecolor": "white",
             "minorgridcolor": "white",
             "startlinecolor": "#2a3f5f"
            },
            "type": "carpet"
           }
          ],
          "choropleth": [
           {
            "colorbar": {
             "outlinewidth": 0,
             "ticks": ""
            },
            "type": "choropleth"
           }
          ],
          "contour": [
           {
            "colorbar": {
             "outlinewidth": 0,
             "ticks": ""
            },
            "colorscale": [
             [
              0,
              "#0d0887"
             ],
             [
              0.1111111111111111,
              "#46039f"
             ],
             [
              0.2222222222222222,
              "#7201a8"
             ],
             [
              0.3333333333333333,
              "#9c179e"
             ],
             [
              0.4444444444444444,
              "#bd3786"
             ],
             [
              0.5555555555555556,
              "#d8576b"
             ],
             [
              0.6666666666666666,
              "#ed7953"
             ],
             [
              0.7777777777777778,
              "#fb9f3a"
             ],
             [
              0.8888888888888888,
              "#fdca26"
             ],
             [
              1,
              "#f0f921"
             ]
            ],
            "type": "contour"
           }
          ],
          "contourcarpet": [
           {
            "colorbar": {
             "outlinewidth": 0,
             "ticks": ""
            },
            "type": "contourcarpet"
           }
          ],
          "heatmap": [
           {
            "colorbar": {
             "outlinewidth": 0,
             "ticks": ""
            },
            "colorscale": [
             [
              0,
              "#0d0887"
             ],
             [
              0.1111111111111111,
              "#46039f"
             ],
             [
              0.2222222222222222,
              "#7201a8"
             ],
             [
              0.3333333333333333,
              "#9c179e"
             ],
             [
              0.4444444444444444,
              "#bd3786"
             ],
             [
              0.5555555555555556,
              "#d8576b"
             ],
             [
              0.6666666666666666,
              "#ed7953"
             ],
             [
              0.7777777777777778,
              "#fb9f3a"
             ],
             [
              0.8888888888888888,
              "#fdca26"
             ],
             [
              1,
              "#f0f921"
             ]
            ],
            "type": "heatmap"
           }
          ],
          "heatmapgl": [
           {
            "colorbar": {
             "outlinewidth": 0,
             "ticks": ""
            },
            "colorscale": [
             [
              0,
              "#0d0887"
             ],
             [
              0.1111111111111111,
              "#46039f"
             ],
             [
              0.2222222222222222,
              "#7201a8"
             ],
             [
              0.3333333333333333,
              "#9c179e"
             ],
             [
              0.4444444444444444,
              "#bd3786"
             ],
             [
              0.5555555555555556,
              "#d8576b"
             ],
             [
              0.6666666666666666,
              "#ed7953"
             ],
             [
              0.7777777777777778,
              "#fb9f3a"
             ],
             [
              0.8888888888888888,
              "#fdca26"
             ],
             [
              1,
              "#f0f921"
             ]
            ],
            "type": "heatmapgl"
           }
          ],
          "histogram": [
           {
            "marker": {
             "pattern": {
              "fillmode": "overlay",
              "size": 10,
              "solidity": 0.2
             }
            },
            "type": "histogram"
           }
          ],
          "histogram2d": [
           {
            "colorbar": {
             "outlinewidth": 0,
             "ticks": ""
            },
            "colorscale": [
             [
              0,
              "#0d0887"
             ],
             [
              0.1111111111111111,
              "#46039f"
             ],
             [
              0.2222222222222222,
              "#7201a8"
             ],
             [
              0.3333333333333333,
              "#9c179e"
             ],
             [
              0.4444444444444444,
              "#bd3786"
             ],
             [
              0.5555555555555556,
              "#d8576b"
             ],
             [
              0.6666666666666666,
              "#ed7953"
             ],
             [
              0.7777777777777778,
              "#fb9f3a"
             ],
             [
              0.8888888888888888,
              "#fdca26"
             ],
             [
              1,
              "#f0f921"
             ]
            ],
            "type": "histogram2d"
           }
          ],
          "histogram2dcontour": [
           {
            "colorbar": {
             "outlinewidth": 0,
             "ticks": ""
            },
            "colorscale": [
             [
              0,
              "#0d0887"
             ],
             [
              0.1111111111111111,
              "#46039f"
             ],
             [
              0.2222222222222222,
              "#7201a8"
             ],
             [
              0.3333333333333333,
              "#9c179e"
             ],
             [
              0.4444444444444444,
              "#bd3786"
             ],
             [
              0.5555555555555556,
              "#d8576b"
             ],
             [
              0.6666666666666666,
              "#ed7953"
             ],
             [
              0.7777777777777778,
              "#fb9f3a"
             ],
             [
              0.8888888888888888,
              "#fdca26"
             ],
             [
              1,
              "#f0f921"
             ]
            ],
            "type": "histogram2dcontour"
           }
          ],
          "mesh3d": [
           {
            "colorbar": {
             "outlinewidth": 0,
             "ticks": ""
            },
            "type": "mesh3d"
           }
          ],
          "parcoords": [
           {
            "line": {
             "colorbar": {
              "outlinewidth": 0,
              "ticks": ""
             }
            },
            "type": "parcoords"
           }
          ],
          "pie": [
           {
            "automargin": true,
            "type": "pie"
           }
          ],
          "scatter": [
           {
            "fillpattern": {
             "fillmode": "overlay",
             "size": 10,
             "solidity": 0.2
            },
            "type": "scatter"
           }
          ],
          "scatter3d": [
           {
            "line": {
             "colorbar": {
              "outlinewidth": 0,
              "ticks": ""
             }
            },
            "marker": {
             "colorbar": {
              "outlinewidth": 0,
              "ticks": ""
             }
            },
            "type": "scatter3d"
           }
          ],
          "scattercarpet": [
           {
            "marker": {
             "colorbar": {
              "outlinewidth": 0,
              "ticks": ""
             }
            },
            "type": "scattercarpet"
           }
          ],
          "scattergeo": [
           {
            "marker": {
             "colorbar": {
              "outlinewidth": 0,
              "ticks": ""
             }
            },
            "type": "scattergeo"
           }
          ],
          "scattergl": [
           {
            "marker": {
             "colorbar": {
              "outlinewidth": 0,
              "ticks": ""
             }
            },
            "type": "scattergl"
           }
          ],
          "scattermapbox": [
           {
            "marker": {
             "colorbar": {
              "outlinewidth": 0,
              "ticks": ""
             }
            },
            "type": "scattermapbox"
           }
          ],
          "scatterpolar": [
           {
            "marker": {
             "colorbar": {
              "outlinewidth": 0,
              "ticks": ""
             }
            },
            "type": "scatterpolar"
           }
          ],
          "scatterpolargl": [
           {
            "marker": {
             "colorbar": {
              "outlinewidth": 0,
              "ticks": ""
             }
            },
            "type": "scatterpolargl"
           }
          ],
          "scatterternary": [
           {
            "marker": {
             "colorbar": {
              "outlinewidth": 0,
              "ticks": ""
             }
            },
            "type": "scatterternary"
           }
          ],
          "surface": [
           {
            "colorbar": {
             "outlinewidth": 0,
             "ticks": ""
            },
            "colorscale": [
             [
              0,
              "#0d0887"
             ],
             [
              0.1111111111111111,
              "#46039f"
             ],
             [
              0.2222222222222222,
              "#7201a8"
             ],
             [
              0.3333333333333333,
              "#9c179e"
             ],
             [
              0.4444444444444444,
              "#bd3786"
             ],
             [
              0.5555555555555556,
              "#d8576b"
             ],
             [
              0.6666666666666666,
              "#ed7953"
             ],
             [
              0.7777777777777778,
              "#fb9f3a"
             ],
             [
              0.8888888888888888,
              "#fdca26"
             ],
             [
              1,
              "#f0f921"
             ]
            ],
            "type": "surface"
           }
          ],
          "table": [
           {
            "cells": {
             "fill": {
              "color": "#EBF0F8"
             },
             "line": {
              "color": "white"
             }
            },
            "header": {
             "fill": {
              "color": "#C8D4E3"
             },
             "line": {
              "color": "white"
             }
            },
            "type": "table"
           }
          ]
         },
         "layout": {
          "annotationdefaults": {
           "arrowcolor": "#2a3f5f",
           "arrowhead": 0,
           "arrowwidth": 1
          },
          "autotypenumbers": "strict",
          "coloraxis": {
           "colorbar": {
            "outlinewidth": 0,
            "ticks": ""
           }
          },
          "colorscale": {
           "diverging": [
            [
             0,
             "#8e0152"
            ],
            [
             0.1,
             "#c51b7d"
            ],
            [
             0.2,
             "#de77ae"
            ],
            [
             0.3,
             "#f1b6da"
            ],
            [
             0.4,
             "#fde0ef"
            ],
            [
             0.5,
             "#f7f7f7"
            ],
            [
             0.6,
             "#e6f5d0"
            ],
            [
             0.7,
             "#b8e186"
            ],
            [
             0.8,
             "#7fbc41"
            ],
            [
             0.9,
             "#4d9221"
            ],
            [
             1,
             "#276419"
            ]
           ],
           "sequential": [
            [
             0,
             "#0d0887"
            ],
            [
             0.1111111111111111,
             "#46039f"
            ],
            [
             0.2222222222222222,
             "#7201a8"
            ],
            [
             0.3333333333333333,
             "#9c179e"
            ],
            [
             0.4444444444444444,
             "#bd3786"
            ],
            [
             0.5555555555555556,
             "#d8576b"
            ],
            [
             0.6666666666666666,
             "#ed7953"
            ],
            [
             0.7777777777777778,
             "#fb9f3a"
            ],
            [
             0.8888888888888888,
             "#fdca26"
            ],
            [
             1,
             "#f0f921"
            ]
           ],
           "sequentialminus": [
            [
             0,
             "#0d0887"
            ],
            [
             0.1111111111111111,
             "#46039f"
            ],
            [
             0.2222222222222222,
             "#7201a8"
            ],
            [
             0.3333333333333333,
             "#9c179e"
            ],
            [
             0.4444444444444444,
             "#bd3786"
            ],
            [
             0.5555555555555556,
             "#d8576b"
            ],
            [
             0.6666666666666666,
             "#ed7953"
            ],
            [
             0.7777777777777778,
             "#fb9f3a"
            ],
            [
             0.8888888888888888,
             "#fdca26"
            ],
            [
             1,
             "#f0f921"
            ]
           ]
          },
          "colorway": [
           "#636efa",
           "#EF553B",
           "#00cc96",
           "#ab63fa",
           "#FFA15A",
           "#19d3f3",
           "#FF6692",
           "#B6E880",
           "#FF97FF",
           "#FECB52"
          ],
          "font": {
           "color": "#2a3f5f"
          },
          "geo": {
           "bgcolor": "white",
           "lakecolor": "white",
           "landcolor": "#E5ECF6",
           "showlakes": true,
           "showland": true,
           "subunitcolor": "white"
          },
          "hoverlabel": {
           "align": "left"
          },
          "hovermode": "closest",
          "mapbox": {
           "style": "light"
          },
          "paper_bgcolor": "white",
          "plot_bgcolor": "#E5ECF6",
          "polar": {
           "angularaxis": {
            "gridcolor": "white",
            "linecolor": "white",
            "ticks": ""
           },
           "bgcolor": "#E5ECF6",
           "radialaxis": {
            "gridcolor": "white",
            "linecolor": "white",
            "ticks": ""
           }
          },
          "scene": {
           "xaxis": {
            "backgroundcolor": "#E5ECF6",
            "gridcolor": "white",
            "gridwidth": 2,
            "linecolor": "white",
            "showbackground": true,
            "ticks": "",
            "zerolinecolor": "white"
           },
           "yaxis": {
            "backgroundcolor": "#E5ECF6",
            "gridcolor": "white",
            "gridwidth": 2,
            "linecolor": "white",
            "showbackground": true,
            "ticks": "",
            "zerolinecolor": "white"
           },
           "zaxis": {
            "backgroundcolor": "#E5ECF6",
            "gridcolor": "white",
            "gridwidth": 2,
            "linecolor": "white",
            "showbackground": true,
            "ticks": "",
            "zerolinecolor": "white"
           }
          },
          "shapedefaults": {
           "line": {
            "color": "#2a3f5f"
           }
          },
          "ternary": {
           "aaxis": {
            "gridcolor": "white",
            "linecolor": "white",
            "ticks": ""
           },
           "baxis": {
            "gridcolor": "white",
            "linecolor": "white",
            "ticks": ""
           },
           "bgcolor": "#E5ECF6",
           "caxis": {
            "gridcolor": "white",
            "linecolor": "white",
            "ticks": ""
           }
          },
          "title": {
           "x": 0.05
          },
          "xaxis": {
           "automargin": true,
           "gridcolor": "white",
           "linecolor": "white",
           "ticks": "",
           "title": {
            "standoff": 15
           },
           "zerolinecolor": "white",
           "zerolinewidth": 2
          },
          "yaxis": {
           "automargin": true,
           "gridcolor": "white",
           "linecolor": "white",
           "ticks": "",
           "title": {
            "standoff": 15
           },
           "zerolinecolor": "white",
           "zerolinewidth": 2
          }
         }
        },
        "xaxis": {
         "anchor": "y",
         "domain": [
          0,
          1
         ],
         "title": {
          "text": "Number of individuals"
         }
        },
        "yaxis": {
         "anchor": "x",
         "domain": [
          0,
          1
         ],
         "title": {
          "text": "Computation Time (s)"
         }
        }
       }
      }
     },
     "metadata": {},
     "output_type": "display_data"
    }
   ],
   "source": [
    "indiv_df = pd.DataFrame.from_dict(individuals)[nn]\n",
    "indiv_time = indiv_df.apply(lambda x: x.str[1]).T\n",
    "fig = px.line(data_frame=indiv_time,log_x=False,markers=\"*\")\n",
    "fig.update_layout(legend_title_text='Algorithm')\n",
    "fig.update_xaxes(title=\"Number of individuals\")\n",
    "fig.update_yaxes(title=\"Computation Time (s)\")\n",
    "fig"
   ]
  },
  {
   "cell_type": "code",
   "execution_count": 9,
   "metadata": {},
   "outputs": [],
   "source": [
    "n_num = {\n",
    "    2 : {\n",
    "        \"ClustMD\": [158.914012, 20.684799909591675],\n",
    "        \"DenseClus\": [44.363269, 18.703999996185303],\n",
    "        \"Phillip & Ottaway\":[23.578149999999994, 1.315000057220459],\n",
    "        \"Kamila\":[103.543, 1.6481001377105713],\n",
    "        \"K-Prototypes\":[20.449250000000006, 2.1430001258850098],\n",
    "        \"MixtComp\":[147.925812, 2.636399984359741],\n",
    "        \"Modha-Spangler\":[113.76561900000002, 12.003000020980835],\n",
    "        \"Pretopo-FAMD\":[56.925805999999966, 3.3359999656677246],\n",
    "        \"Pretopo-UMAP\":[76.44535000000002, 10.22160005569458],\n",
    "        \"Pretopo-PaCMAP\":[57.02348099999995, 3.65910005569458],\n",
    "        \"PretopoMD\":[13.714844000000028, 15.901400089263916]\n",
    "    },\n",
    "    5 :{\n",
    "        \"ClustMD\": [184.296919, 28.09750008583069],\n",
    "        \"DenseClus\": [42.257825000000025, 17.524900197982788],\n",
    "        \"Phillip & Ottaway\":[30.007769000000053, 1.4196999073028564],\n",
    "        \"Kamila\":[116.44922500000001, 1.6607000827789307],\n",
    "        \"K-Prototypes\":[24.589850000000013, 2.361299991607666],\n",
    "        \"MixtComp\":[153.73832499999997, 2.758500099182129],\n",
    "        \"Modha-Spangler\":[117.761731, 13.666800022125244],\n",
    "        \"Pretopo-FAMD\":[58.757799999999975, 3.3143999576568604],\n",
    "        \"Pretopo-UMAP\":[77.55470599999995, 9.262700080871582],\n",
    "        \"Pretopo-PaCMAP\":[59.472644, 3.909899950027466],\n",
    "        \"PretopoMD\":[13.164044000000047, 19.644400119781494]\n",
    "    },\n",
    "    10 : {\n",
    "        \"ClustMD\": [199.43753800000002, 24.576600074768066],\n",
    "        \"DenseClus\": [44.89845599999995, 17.947499990463257],\n",
    "        \"Phillip & Ottaway\":[26.414080999999953, 1.570000171661377],\n",
    "        \"Kamila\":[101.15625599999998, 1.725100040435791],\n",
    "        \"K-Prototypes\":[21.027344000000028, 2.306999921798706],\n",
    "        \"MixtComp\":[150.171856, 3.133999824523926],\n",
    "        \"Modha-Spangler\":[112.74214400000005, 15.881099939346313],\n",
    "        \"Pretopo-FAMD\":[59.34373799999997, 3.063999891281128],\n",
    "        \"Pretopo-UMAP\":[76.00392499999998, 9.351500034332275],\n",
    "        \"Pretopo-PaCMAP\":[56.96483099999995, 3.7070000171661377],\n",
    "        \"PretopoMD\":[13.54691200000002, 13.7360999584198]\n",
    "    },\n",
    "    20 : {\n",
    "        \"ClustMD\": [219.79294400000003, 54.02439999580383],\n",
    "        \"DenseClus\": [46.45702499999999, 17.75190019607544],\n",
    "        \"Phillip & Ottaway\":[28.429705999999953, 1.7090001106262207],\n",
    "        \"Kamila\":[104.00386900000001, 1.8550000190734863],\n",
    "        \"K-Prototypes\":[24.53517499999998, 2.5360000133514404],\n",
    "        \"MixtComp\":[150.777338, 3.8279998302459717],\n",
    "        \"Modha-Spangler\":[113.93357500000002, 20.4685001373291],\n",
    "        \"Pretopo-FAMD\":[57.812524999999994, 3.0710999965667725],\n",
    "        \"Pretopo-UMAP\":[74.99609400000003, 9.609100103378296],\n",
    "        \"Pretopo-PaCMAP\":[56.81246199999998, 4.1834001541137695],\n",
    "        \"PretopoMD\":[13.667950000000019, 15.192700147628784]\n",
    "    },\n",
    "    50 : {\n",
    "        \"ClustMD\": [390.69140600000003, 149.78139996528625],\n",
    "        \"DenseClus\": [46.425749999999994, 18.183799982070923],\n",
    "        \"Phillip & Ottaway\":[28.953075000000013, 2.3515000343322754],\n",
    "        \"Kamila\":[114.07421900000003, 2.1989998817443848],\n",
    "        \"K-Prototypes\":[30.585980999999947, 2.9739999771118164],\n",
    "        \"MixtComp\":[156.23440599999998, 5.978299856185913],\n",
    "        \"Modha-Spangler\":[115.77734400000003, 34.79960012435913],\n",
    "        \"Pretopo-FAMD\":[57.38675599999999, 3.1150999069213867],\n",
    "        \"Pretopo-UMAP\":[76.23823800000002, 9.525400161743164],\n",
    "        \"Pretopo-PaCMAP\":[60.898405999999966, 4.983100175857544],\n",
    "        \"PretopoMD\":[13.421861999999976, 14.77150011062622]\n",
    "    },\n",
    "    100 : {\n",
    "        \"ClustMD\": [1161.914062, 411.7828998565674],\n",
    "        \"DenseClus\": [45.499994000000015, 17.24910020828247],\n",
    "        \"Phillip & Ottaway\":[34.890619000000015, 3.49800014495849],\n",
    "        \"Kamila\":[114.246125, 2.7750000953674316],\n",
    "        \"K-Prototypes\":[33.636675000000025, 4.019000053405762],\n",
    "        \"MixtComp\":[168.49614400000002, 9.466599941253662],\n",
    "        \"Modha-Spangler\":[118.16796900000003, 59.250800132751465],\n",
    "        \"Pretopo-FAMD\":[59.359361999999976, 3.2741000652313232],\n",
    "        \"Pretopo-UMAP\":[75.21095599999995, 9.781699895858765],\n",
    "        \"Pretopo-PaCMAP\":[59.57815599999998, 6.569999933242798],\n",
    "        \"PretopoMD\":[13.562494000000015, 16.02489995956421]\n",
    "    },\n",
    "}"
   ]
  },
  {
   "cell_type": "code",
   "execution_count": 10,
   "metadata": {},
   "outputs": [
    {
     "data": {
      "application/vnd.plotly.v1+json": {
       "config": {
        "plotlyServerURL": "https://plot.ly"
       },
       "data": [
        {
         "hovertemplate": "variable=ClustMD<br>index=%{x}<br>value=%{y}<extra></extra>",
         "legendgroup": "ClustMD",
         "line": {
          "color": "#636efa",
          "dash": "solid"
         },
         "marker": {
          "symbol": "circle"
         },
         "mode": "markers+lines",
         "name": "ClustMD",
         "orientation": "v",
         "showlegend": true,
         "type": "scatter",
         "x": [
          2,
          5,
          10,
          20,
          50,
          100
         ],
         "xaxis": "x",
         "y": [
          158.914012,
          184.296919,
          199.43753800000002,
          219.79294400000003,
          390.69140600000003,
          1161.914062
         ],
         "yaxis": "y"
        },
        {
         "hovertemplate": "variable=DenseClus<br>index=%{x}<br>value=%{y}<extra></extra>",
         "legendgroup": "DenseClus",
         "line": {
          "color": "#EF553B",
          "dash": "solid"
         },
         "marker": {
          "symbol": "circle"
         },
         "mode": "markers+lines",
         "name": "DenseClus",
         "orientation": "v",
         "showlegend": true,
         "type": "scatter",
         "x": [
          2,
          5,
          10,
          20,
          50,
          100
         ],
         "xaxis": "x",
         "y": [
          44.363269,
          42.257825000000025,
          44.89845599999995,
          46.45702499999999,
          46.425749999999994,
          45.499994000000015
         ],
         "yaxis": "y"
        },
        {
         "hovertemplate": "variable=Phillip & Ottaway<br>index=%{x}<br>value=%{y}<extra></extra>",
         "legendgroup": "Phillip & Ottaway",
         "line": {
          "color": "#00cc96",
          "dash": "solid"
         },
         "marker": {
          "symbol": "circle"
         },
         "mode": "markers+lines",
         "name": "Phillip & Ottaway",
         "orientation": "v",
         "showlegend": true,
         "type": "scatter",
         "x": [
          2,
          5,
          10,
          20,
          50,
          100
         ],
         "xaxis": "x",
         "y": [
          23.578149999999994,
          30.007769000000053,
          26.414080999999953,
          28.429705999999953,
          28.953075000000013,
          34.890619000000015
         ],
         "yaxis": "y"
        },
        {
         "hovertemplate": "variable=Kamila<br>index=%{x}<br>value=%{y}<extra></extra>",
         "legendgroup": "Kamila",
         "line": {
          "color": "#ab63fa",
          "dash": "solid"
         },
         "marker": {
          "symbol": "circle"
         },
         "mode": "markers+lines",
         "name": "Kamila",
         "orientation": "v",
         "showlegend": true,
         "type": "scatter",
         "x": [
          2,
          5,
          10,
          20,
          50,
          100
         ],
         "xaxis": "x",
         "y": [
          103.543,
          116.44922500000001,
          101.15625599999998,
          104.00386900000001,
          114.07421900000003,
          114.246125
         ],
         "yaxis": "y"
        },
        {
         "hovertemplate": "variable=K-Prototypes<br>index=%{x}<br>value=%{y}<extra></extra>",
         "legendgroup": "K-Prototypes",
         "line": {
          "color": "#FFA15A",
          "dash": "solid"
         },
         "marker": {
          "symbol": "circle"
         },
         "mode": "markers+lines",
         "name": "K-Prototypes",
         "orientation": "v",
         "showlegend": true,
         "type": "scatter",
         "x": [
          2,
          5,
          10,
          20,
          50,
          100
         ],
         "xaxis": "x",
         "y": [
          20.449250000000006,
          24.589850000000013,
          21.027344000000028,
          24.53517499999998,
          30.585980999999947,
          33.636675000000025
         ],
         "yaxis": "y"
        },
        {
         "hovertemplate": "variable=MixtComp<br>index=%{x}<br>value=%{y}<extra></extra>",
         "legendgroup": "MixtComp",
         "line": {
          "color": "#19d3f3",
          "dash": "solid"
         },
         "marker": {
          "symbol": "circle"
         },
         "mode": "markers+lines",
         "name": "MixtComp",
         "orientation": "v",
         "showlegend": true,
         "type": "scatter",
         "x": [
          2,
          5,
          10,
          20,
          50,
          100
         ],
         "xaxis": "x",
         "y": [
          147.925812,
          153.73832499999997,
          150.171856,
          150.777338,
          156.23440599999998,
          168.49614400000002
         ],
         "yaxis": "y"
        },
        {
         "hovertemplate": "variable=Modha-Spangler<br>index=%{x}<br>value=%{y}<extra></extra>",
         "legendgroup": "Modha-Spangler",
         "line": {
          "color": "#FF6692",
          "dash": "solid"
         },
         "marker": {
          "symbol": "circle"
         },
         "mode": "markers+lines",
         "name": "Modha-Spangler",
         "orientation": "v",
         "showlegend": true,
         "type": "scatter",
         "x": [
          2,
          5,
          10,
          20,
          50,
          100
         ],
         "xaxis": "x",
         "y": [
          113.76561900000002,
          117.761731,
          112.74214400000005,
          113.93357500000002,
          115.77734400000003,
          118.16796900000003
         ],
         "yaxis": "y"
        },
        {
         "hovertemplate": "variable=Pretopo-FAMD<br>index=%{x}<br>value=%{y}<extra></extra>",
         "legendgroup": "Pretopo-FAMD",
         "line": {
          "color": "#B6E880",
          "dash": "solid"
         },
         "marker": {
          "symbol": "circle"
         },
         "mode": "markers+lines",
         "name": "Pretopo-FAMD",
         "orientation": "v",
         "showlegend": true,
         "type": "scatter",
         "x": [
          2,
          5,
          10,
          20,
          50,
          100
         ],
         "xaxis": "x",
         "y": [
          56.925805999999966,
          58.757799999999975,
          59.34373799999997,
          57.812524999999994,
          57.38675599999999,
          59.359361999999976
         ],
         "yaxis": "y"
        },
        {
         "hovertemplate": "variable=Pretopo-UMAP<br>index=%{x}<br>value=%{y}<extra></extra>",
         "legendgroup": "Pretopo-UMAP",
         "line": {
          "color": "#FF97FF",
          "dash": "solid"
         },
         "marker": {
          "symbol": "circle"
         },
         "mode": "markers+lines",
         "name": "Pretopo-UMAP",
         "orientation": "v",
         "showlegend": true,
         "type": "scatter",
         "x": [
          2,
          5,
          10,
          20,
          50,
          100
         ],
         "xaxis": "x",
         "y": [
          76.44535000000002,
          77.55470599999995,
          76.00392499999998,
          74.99609400000003,
          76.23823800000002,
          75.21095599999995
         ],
         "yaxis": "y"
        },
        {
         "hovertemplate": "variable=Pretopo-PaCMAP<br>index=%{x}<br>value=%{y}<extra></extra>",
         "legendgroup": "Pretopo-PaCMAP",
         "line": {
          "color": "#FECB52",
          "dash": "solid"
         },
         "marker": {
          "symbol": "circle"
         },
         "mode": "markers+lines",
         "name": "Pretopo-PaCMAP",
         "orientation": "v",
         "showlegend": true,
         "type": "scatter",
         "x": [
          2,
          5,
          10,
          20,
          50,
          100
         ],
         "xaxis": "x",
         "y": [
          57.02348099999995,
          59.472644,
          56.96483099999995,
          56.81246199999998,
          60.898405999999966,
          59.57815599999998
         ],
         "yaxis": "y"
        },
        {
         "hovertemplate": "variable=PretopoMD<br>index=%{x}<br>value=%{y}<extra></extra>",
         "legendgroup": "PretopoMD",
         "line": {
          "color": "#636efa",
          "dash": "solid"
         },
         "marker": {
          "symbol": "circle"
         },
         "mode": "markers+lines",
         "name": "PretopoMD",
         "orientation": "v",
         "showlegend": true,
         "type": "scatter",
         "x": [
          2,
          5,
          10,
          20,
          50,
          100
         ],
         "xaxis": "x",
         "y": [
          13.714844000000028,
          13.164044000000047,
          13.54691200000002,
          13.667950000000019,
          13.421861999999976,
          13.562494000000015
         ],
         "yaxis": "y"
        }
       ],
       "layout": {
        "legend": {
         "title": {
          "text": "Algorithm"
         },
         "tracegroupgap": 0
        },
        "margin": {
         "t": 60
        },
        "template": {
         "data": {
          "bar": [
           {
            "error_x": {
             "color": "#2a3f5f"
            },
            "error_y": {
             "color": "#2a3f5f"
            },
            "marker": {
             "line": {
              "color": "#E5ECF6",
              "width": 0.5
             },
             "pattern": {
              "fillmode": "overlay",
              "size": 10,
              "solidity": 0.2
             }
            },
            "type": "bar"
           }
          ],
          "barpolar": [
           {
            "marker": {
             "line": {
              "color": "#E5ECF6",
              "width": 0.5
             },
             "pattern": {
              "fillmode": "overlay",
              "size": 10,
              "solidity": 0.2
             }
            },
            "type": "barpolar"
           }
          ],
          "carpet": [
           {
            "aaxis": {
             "endlinecolor": "#2a3f5f",
             "gridcolor": "white",
             "linecolor": "white",
             "minorgridcolor": "white",
             "startlinecolor": "#2a3f5f"
            },
            "baxis": {
             "endlinecolor": "#2a3f5f",
             "gridcolor": "white",
             "linecolor": "white",
             "minorgridcolor": "white",
             "startlinecolor": "#2a3f5f"
            },
            "type": "carpet"
           }
          ],
          "choropleth": [
           {
            "colorbar": {
             "outlinewidth": 0,
             "ticks": ""
            },
            "type": "choropleth"
           }
          ],
          "contour": [
           {
            "colorbar": {
             "outlinewidth": 0,
             "ticks": ""
            },
            "colorscale": [
             [
              0,
              "#0d0887"
             ],
             [
              0.1111111111111111,
              "#46039f"
             ],
             [
              0.2222222222222222,
              "#7201a8"
             ],
             [
              0.3333333333333333,
              "#9c179e"
             ],
             [
              0.4444444444444444,
              "#bd3786"
             ],
             [
              0.5555555555555556,
              "#d8576b"
             ],
             [
              0.6666666666666666,
              "#ed7953"
             ],
             [
              0.7777777777777778,
              "#fb9f3a"
             ],
             [
              0.8888888888888888,
              "#fdca26"
             ],
             [
              1,
              "#f0f921"
             ]
            ],
            "type": "contour"
           }
          ],
          "contourcarpet": [
           {
            "colorbar": {
             "outlinewidth": 0,
             "ticks": ""
            },
            "type": "contourcarpet"
           }
          ],
          "heatmap": [
           {
            "colorbar": {
             "outlinewidth": 0,
             "ticks": ""
            },
            "colorscale": [
             [
              0,
              "#0d0887"
             ],
             [
              0.1111111111111111,
              "#46039f"
             ],
             [
              0.2222222222222222,
              "#7201a8"
             ],
             [
              0.3333333333333333,
              "#9c179e"
             ],
             [
              0.4444444444444444,
              "#bd3786"
             ],
             [
              0.5555555555555556,
              "#d8576b"
             ],
             [
              0.6666666666666666,
              "#ed7953"
             ],
             [
              0.7777777777777778,
              "#fb9f3a"
             ],
             [
              0.8888888888888888,
              "#fdca26"
             ],
             [
              1,
              "#f0f921"
             ]
            ],
            "type": "heatmap"
           }
          ],
          "heatmapgl": [
           {
            "colorbar": {
             "outlinewidth": 0,
             "ticks": ""
            },
            "colorscale": [
             [
              0,
              "#0d0887"
             ],
             [
              0.1111111111111111,
              "#46039f"
             ],
             [
              0.2222222222222222,
              "#7201a8"
             ],
             [
              0.3333333333333333,
              "#9c179e"
             ],
             [
              0.4444444444444444,
              "#bd3786"
             ],
             [
              0.5555555555555556,
              "#d8576b"
             ],
             [
              0.6666666666666666,
              "#ed7953"
             ],
             [
              0.7777777777777778,
              "#fb9f3a"
             ],
             [
              0.8888888888888888,
              "#fdca26"
             ],
             [
              1,
              "#f0f921"
             ]
            ],
            "type": "heatmapgl"
           }
          ],
          "histogram": [
           {
            "marker": {
             "pattern": {
              "fillmode": "overlay",
              "size": 10,
              "solidity": 0.2
             }
            },
            "type": "histogram"
           }
          ],
          "histogram2d": [
           {
            "colorbar": {
             "outlinewidth": 0,
             "ticks": ""
            },
            "colorscale": [
             [
              0,
              "#0d0887"
             ],
             [
              0.1111111111111111,
              "#46039f"
             ],
             [
              0.2222222222222222,
              "#7201a8"
             ],
             [
              0.3333333333333333,
              "#9c179e"
             ],
             [
              0.4444444444444444,
              "#bd3786"
             ],
             [
              0.5555555555555556,
              "#d8576b"
             ],
             [
              0.6666666666666666,
              "#ed7953"
             ],
             [
              0.7777777777777778,
              "#fb9f3a"
             ],
             [
              0.8888888888888888,
              "#fdca26"
             ],
             [
              1,
              "#f0f921"
             ]
            ],
            "type": "histogram2d"
           }
          ],
          "histogram2dcontour": [
           {
            "colorbar": {
             "outlinewidth": 0,
             "ticks": ""
            },
            "colorscale": [
             [
              0,
              "#0d0887"
             ],
             [
              0.1111111111111111,
              "#46039f"
             ],
             [
              0.2222222222222222,
              "#7201a8"
             ],
             [
              0.3333333333333333,
              "#9c179e"
             ],
             [
              0.4444444444444444,
              "#bd3786"
             ],
             [
              0.5555555555555556,
              "#d8576b"
             ],
             [
              0.6666666666666666,
              "#ed7953"
             ],
             [
              0.7777777777777778,
              "#fb9f3a"
             ],
             [
              0.8888888888888888,
              "#fdca26"
             ],
             [
              1,
              "#f0f921"
             ]
            ],
            "type": "histogram2dcontour"
           }
          ],
          "mesh3d": [
           {
            "colorbar": {
             "outlinewidth": 0,
             "ticks": ""
            },
            "type": "mesh3d"
           }
          ],
          "parcoords": [
           {
            "line": {
             "colorbar": {
              "outlinewidth": 0,
              "ticks": ""
             }
            },
            "type": "parcoords"
           }
          ],
          "pie": [
           {
            "automargin": true,
            "type": "pie"
           }
          ],
          "scatter": [
           {
            "fillpattern": {
             "fillmode": "overlay",
             "size": 10,
             "solidity": 0.2
            },
            "type": "scatter"
           }
          ],
          "scatter3d": [
           {
            "line": {
             "colorbar": {
              "outlinewidth": 0,
              "ticks": ""
             }
            },
            "marker": {
             "colorbar": {
              "outlinewidth": 0,
              "ticks": ""
             }
            },
            "type": "scatter3d"
           }
          ],
          "scattercarpet": [
           {
            "marker": {
             "colorbar": {
              "outlinewidth": 0,
              "ticks": ""
             }
            },
            "type": "scattercarpet"
           }
          ],
          "scattergeo": [
           {
            "marker": {
             "colorbar": {
              "outlinewidth": 0,
              "ticks": ""
             }
            },
            "type": "scattergeo"
           }
          ],
          "scattergl": [
           {
            "marker": {
             "colorbar": {
              "outlinewidth": 0,
              "ticks": ""
             }
            },
            "type": "scattergl"
           }
          ],
          "scattermapbox": [
           {
            "marker": {
             "colorbar": {
              "outlinewidth": 0,
              "ticks": ""
             }
            },
            "type": "scattermapbox"
           }
          ],
          "scatterpolar": [
           {
            "marker": {
             "colorbar": {
              "outlinewidth": 0,
              "ticks": ""
             }
            },
            "type": "scatterpolar"
           }
          ],
          "scatterpolargl": [
           {
            "marker": {
             "colorbar": {
              "outlinewidth": 0,
              "ticks": ""
             }
            },
            "type": "scatterpolargl"
           }
          ],
          "scatterternary": [
           {
            "marker": {
             "colorbar": {
              "outlinewidth": 0,
              "ticks": ""
             }
            },
            "type": "scatterternary"
           }
          ],
          "surface": [
           {
            "colorbar": {
             "outlinewidth": 0,
             "ticks": ""
            },
            "colorscale": [
             [
              0,
              "#0d0887"
             ],
             [
              0.1111111111111111,
              "#46039f"
             ],
             [
              0.2222222222222222,
              "#7201a8"
             ],
             [
              0.3333333333333333,
              "#9c179e"
             ],
             [
              0.4444444444444444,
              "#bd3786"
             ],
             [
              0.5555555555555556,
              "#d8576b"
             ],
             [
              0.6666666666666666,
              "#ed7953"
             ],
             [
              0.7777777777777778,
              "#fb9f3a"
             ],
             [
              0.8888888888888888,
              "#fdca26"
             ],
             [
              1,
              "#f0f921"
             ]
            ],
            "type": "surface"
           }
          ],
          "table": [
           {
            "cells": {
             "fill": {
              "color": "#EBF0F8"
             },
             "line": {
              "color": "white"
             }
            },
            "header": {
             "fill": {
              "color": "#C8D4E3"
             },
             "line": {
              "color": "white"
             }
            },
            "type": "table"
           }
          ]
         },
         "layout": {
          "annotationdefaults": {
           "arrowcolor": "#2a3f5f",
           "arrowhead": 0,
           "arrowwidth": 1
          },
          "autotypenumbers": "strict",
          "coloraxis": {
           "colorbar": {
            "outlinewidth": 0,
            "ticks": ""
           }
          },
          "colorscale": {
           "diverging": [
            [
             0,
             "#8e0152"
            ],
            [
             0.1,
             "#c51b7d"
            ],
            [
             0.2,
             "#de77ae"
            ],
            [
             0.3,
             "#f1b6da"
            ],
            [
             0.4,
             "#fde0ef"
            ],
            [
             0.5,
             "#f7f7f7"
            ],
            [
             0.6,
             "#e6f5d0"
            ],
            [
             0.7,
             "#b8e186"
            ],
            [
             0.8,
             "#7fbc41"
            ],
            [
             0.9,
             "#4d9221"
            ],
            [
             1,
             "#276419"
            ]
           ],
           "sequential": [
            [
             0,
             "#0d0887"
            ],
            [
             0.1111111111111111,
             "#46039f"
            ],
            [
             0.2222222222222222,
             "#7201a8"
            ],
            [
             0.3333333333333333,
             "#9c179e"
            ],
            [
             0.4444444444444444,
             "#bd3786"
            ],
            [
             0.5555555555555556,
             "#d8576b"
            ],
            [
             0.6666666666666666,
             "#ed7953"
            ],
            [
             0.7777777777777778,
             "#fb9f3a"
            ],
            [
             0.8888888888888888,
             "#fdca26"
            ],
            [
             1,
             "#f0f921"
            ]
           ],
           "sequentialminus": [
            [
             0,
             "#0d0887"
            ],
            [
             0.1111111111111111,
             "#46039f"
            ],
            [
             0.2222222222222222,
             "#7201a8"
            ],
            [
             0.3333333333333333,
             "#9c179e"
            ],
            [
             0.4444444444444444,
             "#bd3786"
            ],
            [
             0.5555555555555556,
             "#d8576b"
            ],
            [
             0.6666666666666666,
             "#ed7953"
            ],
            [
             0.7777777777777778,
             "#fb9f3a"
            ],
            [
             0.8888888888888888,
             "#fdca26"
            ],
            [
             1,
             "#f0f921"
            ]
           ]
          },
          "colorway": [
           "#636efa",
           "#EF553B",
           "#00cc96",
           "#ab63fa",
           "#FFA15A",
           "#19d3f3",
           "#FF6692",
           "#B6E880",
           "#FF97FF",
           "#FECB52"
          ],
          "font": {
           "color": "#2a3f5f"
          },
          "geo": {
           "bgcolor": "white",
           "lakecolor": "white",
           "landcolor": "#E5ECF6",
           "showlakes": true,
           "showland": true,
           "subunitcolor": "white"
          },
          "hoverlabel": {
           "align": "left"
          },
          "hovermode": "closest",
          "mapbox": {
           "style": "light"
          },
          "paper_bgcolor": "white",
          "plot_bgcolor": "#E5ECF6",
          "polar": {
           "angularaxis": {
            "gridcolor": "white",
            "linecolor": "white",
            "ticks": ""
           },
           "bgcolor": "#E5ECF6",
           "radialaxis": {
            "gridcolor": "white",
            "linecolor": "white",
            "ticks": ""
           }
          },
          "scene": {
           "xaxis": {
            "backgroundcolor": "#E5ECF6",
            "gridcolor": "white",
            "gridwidth": 2,
            "linecolor": "white",
            "showbackground": true,
            "ticks": "",
            "zerolinecolor": "white"
           },
           "yaxis": {
            "backgroundcolor": "#E5ECF6",
            "gridcolor": "white",
            "gridwidth": 2,
            "linecolor": "white",
            "showbackground": true,
            "ticks": "",
            "zerolinecolor": "white"
           },
           "zaxis": {
            "backgroundcolor": "#E5ECF6",
            "gridcolor": "white",
            "gridwidth": 2,
            "linecolor": "white",
            "showbackground": true,
            "ticks": "",
            "zerolinecolor": "white"
           }
          },
          "shapedefaults": {
           "line": {
            "color": "#2a3f5f"
           }
          },
          "ternary": {
           "aaxis": {
            "gridcolor": "white",
            "linecolor": "white",
            "ticks": ""
           },
           "baxis": {
            "gridcolor": "white",
            "linecolor": "white",
            "ticks": ""
           },
           "bgcolor": "#E5ECF6",
           "caxis": {
            "gridcolor": "white",
            "linecolor": "white",
            "ticks": ""
           }
          },
          "title": {
           "x": 0.05
          },
          "xaxis": {
           "automargin": true,
           "gridcolor": "white",
           "linecolor": "white",
           "ticks": "",
           "title": {
            "standoff": 15
           },
           "zerolinecolor": "white",
           "zerolinewidth": 2
          },
          "yaxis": {
           "automargin": true,
           "gridcolor": "white",
           "linecolor": "white",
           "ticks": "",
           "title": {
            "standoff": 15
           },
           "zerolinecolor": "white",
           "zerolinewidth": 2
          }
         }
        },
        "xaxis": {
         "anchor": "y",
         "domain": [
          0,
          1
         ],
         "title": {
          "text": "Number of Numerical Features"
         }
        },
        "yaxis": {
         "anchor": "x",
         "domain": [
          0,
          1
         ],
         "title": {
          "text": "Maximum Memory Usage (MiB)"
         }
        }
       }
      }
     },
     "metadata": {},
     "output_type": "display_data"
    }
   ],
   "source": [
    "nn = [2,5,10,20,50,100]\n",
    "num_df = pd.DataFrame.from_dict(n_num)[nn]\n",
    "num_mem = num_df.apply(lambda x: x.str[0]).T\n",
    "px.line(data_frame=num_mem,title=\"Time (s)\")\n",
    "\n",
    "#nn = [50,100,250,500,1000,1750,2500,5000]\n",
    "num_df = pd.DataFrame.from_dict(n_num)[nn]\n",
    "num_mem = num_df.apply(lambda x: x.str[0]).T\n",
    "fig = px.line(data_frame=num_mem,markers=\"*\")\n",
    "fig.update_layout(legend_title_text='Algorithm')\n",
    "fig.update_xaxes(title=\"Number of Numerical Features\")\n",
    "fig.update_yaxes(title=\"Maximum Memory Usage (MiB)\")\n",
    "fig"
   ]
  },
  {
   "cell_type": "code",
   "execution_count": 11,
   "metadata": {},
   "outputs": [
    {
     "data": {
      "application/vnd.plotly.v1+json": {
       "config": {
        "plotlyServerURL": "https://plot.ly"
       },
       "data": [
        {
         "hovertemplate": "variable=ClustMD<br>index=%{x}<br>value=%{y}<extra></extra>",
         "legendgroup": "ClustMD",
         "line": {
          "color": "#636efa",
          "dash": "solid"
         },
         "marker": {
          "symbol": "circle"
         },
         "mode": "markers+lines",
         "name": "ClustMD",
         "orientation": "v",
         "showlegend": true,
         "type": "scatter",
         "x": [
          2,
          5,
          10,
          20,
          50,
          100
         ],
         "xaxis": "x",
         "y": [
          20.684799909591675,
          28.09750008583069,
          24.576600074768066,
          54.02439999580383,
          149.78139996528625,
          411.7828998565674
         ],
         "yaxis": "y"
        },
        {
         "hovertemplate": "variable=DenseClus<br>index=%{x}<br>value=%{y}<extra></extra>",
         "legendgroup": "DenseClus",
         "line": {
          "color": "#EF553B",
          "dash": "solid"
         },
         "marker": {
          "symbol": "circle"
         },
         "mode": "markers+lines",
         "name": "DenseClus",
         "orientation": "v",
         "showlegend": true,
         "type": "scatter",
         "x": [
          2,
          5,
          10,
          20,
          50,
          100
         ],
         "xaxis": "x",
         "y": [
          18.703999996185303,
          17.524900197982788,
          17.947499990463257,
          17.75190019607544,
          18.183799982070923,
          17.24910020828247
         ],
         "yaxis": "y"
        },
        {
         "hovertemplate": "variable=Phillip & Ottaway<br>index=%{x}<br>value=%{y}<extra></extra>",
         "legendgroup": "Phillip & Ottaway",
         "line": {
          "color": "#00cc96",
          "dash": "solid"
         },
         "marker": {
          "symbol": "circle"
         },
         "mode": "markers+lines",
         "name": "Phillip & Ottaway",
         "orientation": "v",
         "showlegend": true,
         "type": "scatter",
         "x": [
          2,
          5,
          10,
          20,
          50,
          100
         ],
         "xaxis": "x",
         "y": [
          1.315000057220459,
          1.4196999073028564,
          1.570000171661377,
          1.7090001106262207,
          2.3515000343322754,
          3.49800014495849
         ],
         "yaxis": "y"
        },
        {
         "hovertemplate": "variable=Kamila<br>index=%{x}<br>value=%{y}<extra></extra>",
         "legendgroup": "Kamila",
         "line": {
          "color": "#ab63fa",
          "dash": "solid"
         },
         "marker": {
          "symbol": "circle"
         },
         "mode": "markers+lines",
         "name": "Kamila",
         "orientation": "v",
         "showlegend": true,
         "type": "scatter",
         "x": [
          2,
          5,
          10,
          20,
          50,
          100
         ],
         "xaxis": "x",
         "y": [
          1.6481001377105713,
          1.6607000827789307,
          1.725100040435791,
          1.8550000190734863,
          2.1989998817443848,
          2.7750000953674316
         ],
         "yaxis": "y"
        },
        {
         "hovertemplate": "variable=K-Prototypes<br>index=%{x}<br>value=%{y}<extra></extra>",
         "legendgroup": "K-Prototypes",
         "line": {
          "color": "#FFA15A",
          "dash": "solid"
         },
         "marker": {
          "symbol": "circle"
         },
         "mode": "markers+lines",
         "name": "K-Prototypes",
         "orientation": "v",
         "showlegend": true,
         "type": "scatter",
         "x": [
          2,
          5,
          10,
          20,
          50,
          100
         ],
         "xaxis": "x",
         "y": [
          2.1430001258850098,
          2.361299991607666,
          2.306999921798706,
          2.5360000133514404,
          2.9739999771118164,
          4.019000053405762
         ],
         "yaxis": "y"
        },
        {
         "hovertemplate": "variable=MixtComp<br>index=%{x}<br>value=%{y}<extra></extra>",
         "legendgroup": "MixtComp",
         "line": {
          "color": "#19d3f3",
          "dash": "solid"
         },
         "marker": {
          "symbol": "circle"
         },
         "mode": "markers+lines",
         "name": "MixtComp",
         "orientation": "v",
         "showlegend": true,
         "type": "scatter",
         "x": [
          2,
          5,
          10,
          20,
          50,
          100
         ],
         "xaxis": "x",
         "y": [
          2.636399984359741,
          2.758500099182129,
          3.133999824523926,
          3.8279998302459717,
          5.978299856185913,
          9.466599941253662
         ],
         "yaxis": "y"
        },
        {
         "hovertemplate": "variable=Modha-Spangler<br>index=%{x}<br>value=%{y}<extra></extra>",
         "legendgroup": "Modha-Spangler",
         "line": {
          "color": "#FF6692",
          "dash": "solid"
         },
         "marker": {
          "symbol": "circle"
         },
         "mode": "markers+lines",
         "name": "Modha-Spangler",
         "orientation": "v",
         "showlegend": true,
         "type": "scatter",
         "x": [
          2,
          5,
          10,
          20,
          50,
          100
         ],
         "xaxis": "x",
         "y": [
          12.003000020980835,
          13.666800022125244,
          15.881099939346313,
          20.4685001373291,
          34.79960012435913,
          59.250800132751465
         ],
         "yaxis": "y"
        },
        {
         "hovertemplate": "variable=Pretopo-FAMD<br>index=%{x}<br>value=%{y}<extra></extra>",
         "legendgroup": "Pretopo-FAMD",
         "line": {
          "color": "#B6E880",
          "dash": "solid"
         },
         "marker": {
          "symbol": "circle"
         },
         "mode": "markers+lines",
         "name": "Pretopo-FAMD",
         "orientation": "v",
         "showlegend": true,
         "type": "scatter",
         "x": [
          2,
          5,
          10,
          20,
          50,
          100
         ],
         "xaxis": "x",
         "y": [
          3.3359999656677246,
          3.3143999576568604,
          3.063999891281128,
          3.0710999965667725,
          3.1150999069213867,
          3.2741000652313232
         ],
         "yaxis": "y"
        },
        {
         "hovertemplate": "variable=Pretopo-UMAP<br>index=%{x}<br>value=%{y}<extra></extra>",
         "legendgroup": "Pretopo-UMAP",
         "line": {
          "color": "#FF97FF",
          "dash": "solid"
         },
         "marker": {
          "symbol": "circle"
         },
         "mode": "markers+lines",
         "name": "Pretopo-UMAP",
         "orientation": "v",
         "showlegend": true,
         "type": "scatter",
         "x": [
          2,
          5,
          10,
          20,
          50,
          100
         ],
         "xaxis": "x",
         "y": [
          10.22160005569458,
          9.262700080871582,
          9.351500034332275,
          9.609100103378296,
          9.525400161743164,
          9.781699895858765
         ],
         "yaxis": "y"
        },
        {
         "hovertemplate": "variable=Pretopo-PaCMAP<br>index=%{x}<br>value=%{y}<extra></extra>",
         "legendgroup": "Pretopo-PaCMAP",
         "line": {
          "color": "#FECB52",
          "dash": "solid"
         },
         "marker": {
          "symbol": "circle"
         },
         "mode": "markers+lines",
         "name": "Pretopo-PaCMAP",
         "orientation": "v",
         "showlegend": true,
         "type": "scatter",
         "x": [
          2,
          5,
          10,
          20,
          50,
          100
         ],
         "xaxis": "x",
         "y": [
          3.65910005569458,
          3.909899950027466,
          3.7070000171661377,
          4.1834001541137695,
          4.983100175857544,
          6.569999933242798
         ],
         "yaxis": "y"
        },
        {
         "hovertemplate": "variable=PretopoMD<br>index=%{x}<br>value=%{y}<extra></extra>",
         "legendgroup": "PretopoMD",
         "line": {
          "color": "#636efa",
          "dash": "solid"
         },
         "marker": {
          "symbol": "circle"
         },
         "mode": "markers+lines",
         "name": "PretopoMD",
         "orientation": "v",
         "showlegend": true,
         "type": "scatter",
         "x": [
          2,
          5,
          10,
          20,
          50,
          100
         ],
         "xaxis": "x",
         "y": [
          15.901400089263916,
          19.644400119781494,
          13.7360999584198,
          15.192700147628784,
          14.77150011062622,
          16.02489995956421
         ],
         "yaxis": "y"
        }
       ],
       "layout": {
        "legend": {
         "title": {
          "text": "Algorithm"
         },
         "tracegroupgap": 0
        },
        "margin": {
         "t": 60
        },
        "template": {
         "data": {
          "bar": [
           {
            "error_x": {
             "color": "#2a3f5f"
            },
            "error_y": {
             "color": "#2a3f5f"
            },
            "marker": {
             "line": {
              "color": "#E5ECF6",
              "width": 0.5
             },
             "pattern": {
              "fillmode": "overlay",
              "size": 10,
              "solidity": 0.2
             }
            },
            "type": "bar"
           }
          ],
          "barpolar": [
           {
            "marker": {
             "line": {
              "color": "#E5ECF6",
              "width": 0.5
             },
             "pattern": {
              "fillmode": "overlay",
              "size": 10,
              "solidity": 0.2
             }
            },
            "type": "barpolar"
           }
          ],
          "carpet": [
           {
            "aaxis": {
             "endlinecolor": "#2a3f5f",
             "gridcolor": "white",
             "linecolor": "white",
             "minorgridcolor": "white",
             "startlinecolor": "#2a3f5f"
            },
            "baxis": {
             "endlinecolor": "#2a3f5f",
             "gridcolor": "white",
             "linecolor": "white",
             "minorgridcolor": "white",
             "startlinecolor": "#2a3f5f"
            },
            "type": "carpet"
           }
          ],
          "choropleth": [
           {
            "colorbar": {
             "outlinewidth": 0,
             "ticks": ""
            },
            "type": "choropleth"
           }
          ],
          "contour": [
           {
            "colorbar": {
             "outlinewidth": 0,
             "ticks": ""
            },
            "colorscale": [
             [
              0,
              "#0d0887"
             ],
             [
              0.1111111111111111,
              "#46039f"
             ],
             [
              0.2222222222222222,
              "#7201a8"
             ],
             [
              0.3333333333333333,
              "#9c179e"
             ],
             [
              0.4444444444444444,
              "#bd3786"
             ],
             [
              0.5555555555555556,
              "#d8576b"
             ],
             [
              0.6666666666666666,
              "#ed7953"
             ],
             [
              0.7777777777777778,
              "#fb9f3a"
             ],
             [
              0.8888888888888888,
              "#fdca26"
             ],
             [
              1,
              "#f0f921"
             ]
            ],
            "type": "contour"
           }
          ],
          "contourcarpet": [
           {
            "colorbar": {
             "outlinewidth": 0,
             "ticks": ""
            },
            "type": "contourcarpet"
           }
          ],
          "heatmap": [
           {
            "colorbar": {
             "outlinewidth": 0,
             "ticks": ""
            },
            "colorscale": [
             [
              0,
              "#0d0887"
             ],
             [
              0.1111111111111111,
              "#46039f"
             ],
             [
              0.2222222222222222,
              "#7201a8"
             ],
             [
              0.3333333333333333,
              "#9c179e"
             ],
             [
              0.4444444444444444,
              "#bd3786"
             ],
             [
              0.5555555555555556,
              "#d8576b"
             ],
             [
              0.6666666666666666,
              "#ed7953"
             ],
             [
              0.7777777777777778,
              "#fb9f3a"
             ],
             [
              0.8888888888888888,
              "#fdca26"
             ],
             [
              1,
              "#f0f921"
             ]
            ],
            "type": "heatmap"
           }
          ],
          "heatmapgl": [
           {
            "colorbar": {
             "outlinewidth": 0,
             "ticks": ""
            },
            "colorscale": [
             [
              0,
              "#0d0887"
             ],
             [
              0.1111111111111111,
              "#46039f"
             ],
             [
              0.2222222222222222,
              "#7201a8"
             ],
             [
              0.3333333333333333,
              "#9c179e"
             ],
             [
              0.4444444444444444,
              "#bd3786"
             ],
             [
              0.5555555555555556,
              "#d8576b"
             ],
             [
              0.6666666666666666,
              "#ed7953"
             ],
             [
              0.7777777777777778,
              "#fb9f3a"
             ],
             [
              0.8888888888888888,
              "#fdca26"
             ],
             [
              1,
              "#f0f921"
             ]
            ],
            "type": "heatmapgl"
           }
          ],
          "histogram": [
           {
            "marker": {
             "pattern": {
              "fillmode": "overlay",
              "size": 10,
              "solidity": 0.2
             }
            },
            "type": "histogram"
           }
          ],
          "histogram2d": [
           {
            "colorbar": {
             "outlinewidth": 0,
             "ticks": ""
            },
            "colorscale": [
             [
              0,
              "#0d0887"
             ],
             [
              0.1111111111111111,
              "#46039f"
             ],
             [
              0.2222222222222222,
              "#7201a8"
             ],
             [
              0.3333333333333333,
              "#9c179e"
             ],
             [
              0.4444444444444444,
              "#bd3786"
             ],
             [
              0.5555555555555556,
              "#d8576b"
             ],
             [
              0.6666666666666666,
              "#ed7953"
             ],
             [
              0.7777777777777778,
              "#fb9f3a"
             ],
             [
              0.8888888888888888,
              "#fdca26"
             ],
             [
              1,
              "#f0f921"
             ]
            ],
            "type": "histogram2d"
           }
          ],
          "histogram2dcontour": [
           {
            "colorbar": {
             "outlinewidth": 0,
             "ticks": ""
            },
            "colorscale": [
             [
              0,
              "#0d0887"
             ],
             [
              0.1111111111111111,
              "#46039f"
             ],
             [
              0.2222222222222222,
              "#7201a8"
             ],
             [
              0.3333333333333333,
              "#9c179e"
             ],
             [
              0.4444444444444444,
              "#bd3786"
             ],
             [
              0.5555555555555556,
              "#d8576b"
             ],
             [
              0.6666666666666666,
              "#ed7953"
             ],
             [
              0.7777777777777778,
              "#fb9f3a"
             ],
             [
              0.8888888888888888,
              "#fdca26"
             ],
             [
              1,
              "#f0f921"
             ]
            ],
            "type": "histogram2dcontour"
           }
          ],
          "mesh3d": [
           {
            "colorbar": {
             "outlinewidth": 0,
             "ticks": ""
            },
            "type": "mesh3d"
           }
          ],
          "parcoords": [
           {
            "line": {
             "colorbar": {
              "outlinewidth": 0,
              "ticks": ""
             }
            },
            "type": "parcoords"
           }
          ],
          "pie": [
           {
            "automargin": true,
            "type": "pie"
           }
          ],
          "scatter": [
           {
            "fillpattern": {
             "fillmode": "overlay",
             "size": 10,
             "solidity": 0.2
            },
            "type": "scatter"
           }
          ],
          "scatter3d": [
           {
            "line": {
             "colorbar": {
              "outlinewidth": 0,
              "ticks": ""
             }
            },
            "marker": {
             "colorbar": {
              "outlinewidth": 0,
              "ticks": ""
             }
            },
            "type": "scatter3d"
           }
          ],
          "scattercarpet": [
           {
            "marker": {
             "colorbar": {
              "outlinewidth": 0,
              "ticks": ""
             }
            },
            "type": "scattercarpet"
           }
          ],
          "scattergeo": [
           {
            "marker": {
             "colorbar": {
              "outlinewidth": 0,
              "ticks": ""
             }
            },
            "type": "scattergeo"
           }
          ],
          "scattergl": [
           {
            "marker": {
             "colorbar": {
              "outlinewidth": 0,
              "ticks": ""
             }
            },
            "type": "scattergl"
           }
          ],
          "scattermapbox": [
           {
            "marker": {
             "colorbar": {
              "outlinewidth": 0,
              "ticks": ""
             }
            },
            "type": "scattermapbox"
           }
          ],
          "scatterpolar": [
           {
            "marker": {
             "colorbar": {
              "outlinewidth": 0,
              "ticks": ""
             }
            },
            "type": "scatterpolar"
           }
          ],
          "scatterpolargl": [
           {
            "marker": {
             "colorbar": {
              "outlinewidth": 0,
              "ticks": ""
             }
            },
            "type": "scatterpolargl"
           }
          ],
          "scatterternary": [
           {
            "marker": {
             "colorbar": {
              "outlinewidth": 0,
              "ticks": ""
             }
            },
            "type": "scatterternary"
           }
          ],
          "surface": [
           {
            "colorbar": {
             "outlinewidth": 0,
             "ticks": ""
            },
            "colorscale": [
             [
              0,
              "#0d0887"
             ],
             [
              0.1111111111111111,
              "#46039f"
             ],
             [
              0.2222222222222222,
              "#7201a8"
             ],
             [
              0.3333333333333333,
              "#9c179e"
             ],
             [
              0.4444444444444444,
              "#bd3786"
             ],
             [
              0.5555555555555556,
              "#d8576b"
             ],
             [
              0.6666666666666666,
              "#ed7953"
             ],
             [
              0.7777777777777778,
              "#fb9f3a"
             ],
             [
              0.8888888888888888,
              "#fdca26"
             ],
             [
              1,
              "#f0f921"
             ]
            ],
            "type": "surface"
           }
          ],
          "table": [
           {
            "cells": {
             "fill": {
              "color": "#EBF0F8"
             },
             "line": {
              "color": "white"
             }
            },
            "header": {
             "fill": {
              "color": "#C8D4E3"
             },
             "line": {
              "color": "white"
             }
            },
            "type": "table"
           }
          ]
         },
         "layout": {
          "annotationdefaults": {
           "arrowcolor": "#2a3f5f",
           "arrowhead": 0,
           "arrowwidth": 1
          },
          "autotypenumbers": "strict",
          "coloraxis": {
           "colorbar": {
            "outlinewidth": 0,
            "ticks": ""
           }
          },
          "colorscale": {
           "diverging": [
            [
             0,
             "#8e0152"
            ],
            [
             0.1,
             "#c51b7d"
            ],
            [
             0.2,
             "#de77ae"
            ],
            [
             0.3,
             "#f1b6da"
            ],
            [
             0.4,
             "#fde0ef"
            ],
            [
             0.5,
             "#f7f7f7"
            ],
            [
             0.6,
             "#e6f5d0"
            ],
            [
             0.7,
             "#b8e186"
            ],
            [
             0.8,
             "#7fbc41"
            ],
            [
             0.9,
             "#4d9221"
            ],
            [
             1,
             "#276419"
            ]
           ],
           "sequential": [
            [
             0,
             "#0d0887"
            ],
            [
             0.1111111111111111,
             "#46039f"
            ],
            [
             0.2222222222222222,
             "#7201a8"
            ],
            [
             0.3333333333333333,
             "#9c179e"
            ],
            [
             0.4444444444444444,
             "#bd3786"
            ],
            [
             0.5555555555555556,
             "#d8576b"
            ],
            [
             0.6666666666666666,
             "#ed7953"
            ],
            [
             0.7777777777777778,
             "#fb9f3a"
            ],
            [
             0.8888888888888888,
             "#fdca26"
            ],
            [
             1,
             "#f0f921"
            ]
           ],
           "sequentialminus": [
            [
             0,
             "#0d0887"
            ],
            [
             0.1111111111111111,
             "#46039f"
            ],
            [
             0.2222222222222222,
             "#7201a8"
            ],
            [
             0.3333333333333333,
             "#9c179e"
            ],
            [
             0.4444444444444444,
             "#bd3786"
            ],
            [
             0.5555555555555556,
             "#d8576b"
            ],
            [
             0.6666666666666666,
             "#ed7953"
            ],
            [
             0.7777777777777778,
             "#fb9f3a"
            ],
            [
             0.8888888888888888,
             "#fdca26"
            ],
            [
             1,
             "#f0f921"
            ]
           ]
          },
          "colorway": [
           "#636efa",
           "#EF553B",
           "#00cc96",
           "#ab63fa",
           "#FFA15A",
           "#19d3f3",
           "#FF6692",
           "#B6E880",
           "#FF97FF",
           "#FECB52"
          ],
          "font": {
           "color": "#2a3f5f"
          },
          "geo": {
           "bgcolor": "white",
           "lakecolor": "white",
           "landcolor": "#E5ECF6",
           "showlakes": true,
           "showland": true,
           "subunitcolor": "white"
          },
          "hoverlabel": {
           "align": "left"
          },
          "hovermode": "closest",
          "mapbox": {
           "style": "light"
          },
          "paper_bgcolor": "white",
          "plot_bgcolor": "#E5ECF6",
          "polar": {
           "angularaxis": {
            "gridcolor": "white",
            "linecolor": "white",
            "ticks": ""
           },
           "bgcolor": "#E5ECF6",
           "radialaxis": {
            "gridcolor": "white",
            "linecolor": "white",
            "ticks": ""
           }
          },
          "scene": {
           "xaxis": {
            "backgroundcolor": "#E5ECF6",
            "gridcolor": "white",
            "gridwidth": 2,
            "linecolor": "white",
            "showbackground": true,
            "ticks": "",
            "zerolinecolor": "white"
           },
           "yaxis": {
            "backgroundcolor": "#E5ECF6",
            "gridcolor": "white",
            "gridwidth": 2,
            "linecolor": "white",
            "showbackground": true,
            "ticks": "",
            "zerolinecolor": "white"
           },
           "zaxis": {
            "backgroundcolor": "#E5ECF6",
            "gridcolor": "white",
            "gridwidth": 2,
            "linecolor": "white",
            "showbackground": true,
            "ticks": "",
            "zerolinecolor": "white"
           }
          },
          "shapedefaults": {
           "line": {
            "color": "#2a3f5f"
           }
          },
          "ternary": {
           "aaxis": {
            "gridcolor": "white",
            "linecolor": "white",
            "ticks": ""
           },
           "baxis": {
            "gridcolor": "white",
            "linecolor": "white",
            "ticks": ""
           },
           "bgcolor": "#E5ECF6",
           "caxis": {
            "gridcolor": "white",
            "linecolor": "white",
            "ticks": ""
           }
          },
          "title": {
           "x": 0.05
          },
          "xaxis": {
           "automargin": true,
           "gridcolor": "white",
           "linecolor": "white",
           "ticks": "",
           "title": {
            "standoff": 15
           },
           "zerolinecolor": "white",
           "zerolinewidth": 2
          },
          "yaxis": {
           "automargin": true,
           "gridcolor": "white",
           "linecolor": "white",
           "ticks": "",
           "title": {
            "standoff": 15
           },
           "zerolinecolor": "white",
           "zerolinewidth": 2
          }
         }
        },
        "xaxis": {
         "anchor": "y",
         "domain": [
          0,
          1
         ],
         "title": {
          "text": "Number Numerical Features"
         }
        },
        "yaxis": {
         "anchor": "x",
         "domain": [
          0,
          1
         ],
         "title": {
          "text": "Computation Time (s)"
         }
        }
       }
      }
     },
     "metadata": {},
     "output_type": "display_data"
    }
   ],
   "source": [
    "num_time = num_df.apply(lambda x: x.str[1]).T\n",
    "#px.line(data_frame=num_time, title=\"Memory Usage (MiB)\")\n",
    "\n",
    "fig = px.line(data_frame=num_time,log_x=False,markers=\"*\")\n",
    "fig.update_layout(legend_title_text='Algorithm')\n",
    "fig.update_xaxes(title=\"Number Numerical Features\")\n",
    "fig.update_yaxes(title=\"Computation Time (s)\")\n",
    "fig"
   ]
  },
  {
   "cell_type": "code",
   "execution_count": 12,
   "metadata": {},
   "outputs": [],
   "source": [
    "n_cat = {\n",
    "    2 : {\n",
    "        \"ClustMD\": [163.74611900000002, 24.157700061798096],\n",
    "        \"DenseClus\": [44.71486900000002, 19.677599906921387],\n",
    "        \"Phillip & Ottaway\":[26.15623099999999, 1.2940001487731934],\n",
    "        \"Kamila\":[97.74217499999997, 1.5409998893737793],\n",
    "        \"K-Prototypes\":[22.48828800000001, 2.174999952316284],\n",
    "        \"MixtComp\":[150.21093099999996, 2.613100051879883],\n",
    "        \"Modha-Spangler\":[113.660188, 9.431099891662598],\n",
    "        \"Pretopo-FAMD\":[57.89453099999997, 3.2744998931884766],\n",
    "        \"Pretopo-UMAP\":[73.347644, 9.408699989318848],\n",
    "        \"Pretopo-PaCMAP\":[57.46873099999999, 3.5339999198913574],\n",
    "        \"PretopoMD\":[13.074180999999953, 13.948699951171875]\n",
    "    },\n",
    "    5 :{\n",
    "        \"ClustMD\": [184.296919, 28.09750008583069],\n",
    "        \"DenseClus\": [42.257825000000025, 17.524900197982788],\n",
    "        \"Phillip & Ottaway\":[30.007769000000053, 1.4196999073028564],\n",
    "        \"Kamila\":[116.44922500000001, 1.6607000827789307],\n",
    "        \"K-Prototypes\":[24.589850000000013, 2.361299991607666],\n",
    "        \"MixtComp\":[153.73832499999997, 2.758500099182129],\n",
    "        \"Modha-Spangler\":[117.761731, 13.666800022125244],\n",
    "        \"Pretopo-FAMD\":[58.757799999999975, 3.3143999576568604],\n",
    "        \"Pretopo-UMAP\":[77.55470599999995, 9.262700080871582],\n",
    "        \"Pretopo-PaCMAP\":[59.472644, 3.909899950027466],\n",
    "        \"PretopoMD\":[13.164044000000047, 19.644400119781494]\n",
    "    },\n",
    "    10 : {\n",
    "        \"ClustMD\": [206.04301199999998, 39.76929998397827],\n",
    "        \"DenseClus\": [45.011750000000006, 15.17519998550415],\n",
    "        \"Phillip & Ottaway\":[23.09376900000001, 1.4890000820159912],\n",
    "        \"Kamila\":[99.77339999999998, 1.7149999141693115],\n",
    "        \"K-Prototypes\":[23.660162000000014, 2.270400047302246],\n",
    "        \"MixtComp\":[48.41409400000003, 4.771500110626221],\n",
    "        \"Modha-Spangler\":[111.90238799999997, 21.130199909210205],\n",
    "        \"Pretopo-FAMD\":[56.75386200000003, 3.068700075149536],\n",
    "        \"Pretopo-UMAP\":[76.40238099999999, 9.356499910354614],\n",
    "        \"Pretopo-PaCMAP\":[60.71089999999998, 3.812000036239624],\n",
    "        \"PretopoMD\":[14.542994000000022, 22.897000074386597]\n",
    "    },\n",
    "    20 : {\n",
    "        \"ClustMD\": [223.89065, 59.13629984855652],\n",
    "        \"DenseClus\": [46.328169, 14.841700077056885],\n",
    "        \"Phillip & Ottaway\":[23.19923799999998, 1.6340000629425049],\n",
    "        \"Kamila\":[9.16402499999998, 1.817000150680542],\n",
    "        \"K-Prototypes\":[22.957055999999966, 2.5440001487731934],\n",
    "        \"MixtComp\":[149.69142499999998, 3.452000141143799],\n",
    "        \"Modha-Spangler\":[113.71091200000001, 35.03909993171692],\n",
    "        \"Pretopo-FAMD\":[58.41797500000001, 3.1110000610351562],\n",
    "        \"Pretopo-UMAP\":[73.83593099999996, 9.755599975585938],\n",
    "        \"Pretopo-PaCMAP\":[58.38285000000002, 4.109899997711182],\n",
    "        \"PretopoMD\":[12.960894000000053, 13.557500123977661]\n",
    "    },\n",
    "    50 : {\n",
    "        \"ClustMD\": [435.83988100000005, 181.58169984817505],\n",
    "        \"DenseClus\": [41.914012000000014, 15.102699995040894],\n",
    "        \"Phillip & Ottaway\":[25.42972500000002, 2.3259999752044678],\n",
    "        \"Kamila\":[101.41795000000002, 2.0460000038146973],\n",
    "        \"K-Prototypes\":[29.062494000000015, 3.2049999237060547],\n",
    "        \"MixtComp\":[153.152338, 4.736999988555908],\n",
    "        \"Modha-Spangler\":[116.41013099999998, 79.72449994087219],\n",
    "        \"Pretopo-FAMD\":[59.843725000000006, 3.2385001182556152],\n",
    "        \"Pretopo-UMAP\":[74.02339999999998, 9.767699956893921],\n",
    "        \"Pretopo-PaCMAP\":[63.12503099999998, 5.388700008392334],\n",
    "        \"PretopoMD\":[13.746094000000028, 13.465200185775757]\n",
    "    },\n",
    "    100 : {\n",
    "        \"ClustMD\": [1211.167931, 495.93039989471436],\n",
    "        \"DenseClus\": [47.62890599999997, 15.217099905014038],\n",
    "        \"Phillip & Ottaway\":[27.890669000000003, 2.7990000247955322],\n",
    "        \"Kamila\":[139.238269, 2.4720001220703125],\n",
    "        \"K-Prototypes\":[29.08986900000002, 3.881999969482422],\n",
    "        \"MixtComp\":[156.60938099999998, 6.975300073623657],\n",
    "        \"Modha-Spangler\":[120.94136200000003, 157.2970998287201],\n",
    "        \"Pretopo-FAMD\":[60.878855999999985, 3.5114998817443848],\n",
    "        \"Pretopo-UMAP\":[77.22269400000005, 9.758800029754639],\n",
    "        \"Pretopo-PaCMAP\":[62.31640599999997, 6.734800100326538],\n",
    "        \"PretopoMD\":[13.351605999999947, 14.860399961471558]\n",
    "    },\n",
    "}"
   ]
  },
  {
   "cell_type": "code",
   "execution_count": 13,
   "metadata": {},
   "outputs": [
    {
     "data": {
      "application/vnd.plotly.v1+json": {
       "config": {
        "plotlyServerURL": "https://plot.ly"
       },
       "data": [
        {
         "hovertemplate": "variable=ClustMD<br>index=%{x}<br>value=%{y}<extra></extra>",
         "legendgroup": "ClustMD",
         "line": {
          "color": "#636efa",
          "dash": "solid"
         },
         "marker": {
          "symbol": "circle"
         },
         "mode": "markers+lines",
         "name": "ClustMD",
         "orientation": "v",
         "showlegend": true,
         "type": "scatter",
         "x": [
          2,
          5,
          10,
          20,
          50,
          100
         ],
         "xaxis": "x",
         "y": [
          163.74611900000002,
          184.296919,
          206.04301199999998,
          223.89065,
          435.83988100000005,
          1211.167931
         ],
         "yaxis": "y"
        },
        {
         "hovertemplate": "variable=DenseClus<br>index=%{x}<br>value=%{y}<extra></extra>",
         "legendgroup": "DenseClus",
         "line": {
          "color": "#EF553B",
          "dash": "solid"
         },
         "marker": {
          "symbol": "circle"
         },
         "mode": "markers+lines",
         "name": "DenseClus",
         "orientation": "v",
         "showlegend": true,
         "type": "scatter",
         "x": [
          2,
          5,
          10,
          20,
          50,
          100
         ],
         "xaxis": "x",
         "y": [
          44.71486900000002,
          42.257825000000025,
          45.011750000000006,
          46.328169,
          41.914012000000014,
          47.62890599999997
         ],
         "yaxis": "y"
        },
        {
         "hovertemplate": "variable=Phillip & Ottaway<br>index=%{x}<br>value=%{y}<extra></extra>",
         "legendgroup": "Phillip & Ottaway",
         "line": {
          "color": "#00cc96",
          "dash": "solid"
         },
         "marker": {
          "symbol": "circle"
         },
         "mode": "markers+lines",
         "name": "Phillip & Ottaway",
         "orientation": "v",
         "showlegend": true,
         "type": "scatter",
         "x": [
          2,
          5,
          10,
          20,
          50,
          100
         ],
         "xaxis": "x",
         "y": [
          26.15623099999999,
          30.007769000000053,
          23.09376900000001,
          23.19923799999998,
          25.42972500000002,
          27.890669000000003
         ],
         "yaxis": "y"
        },
        {
         "hovertemplate": "variable=Kamila<br>index=%{x}<br>value=%{y}<extra></extra>",
         "legendgroup": "Kamila",
         "line": {
          "color": "#ab63fa",
          "dash": "solid"
         },
         "marker": {
          "symbol": "circle"
         },
         "mode": "markers+lines",
         "name": "Kamila",
         "orientation": "v",
         "showlegend": true,
         "type": "scatter",
         "x": [
          2,
          5,
          10,
          20,
          50,
          100
         ],
         "xaxis": "x",
         "y": [
          97.74217499999997,
          116.44922500000001,
          99.77339999999998,
          9.16402499999998,
          101.41795000000002,
          139.238269
         ],
         "yaxis": "y"
        },
        {
         "hovertemplate": "variable=K-Prototypes<br>index=%{x}<br>value=%{y}<extra></extra>",
         "legendgroup": "K-Prototypes",
         "line": {
          "color": "#FFA15A",
          "dash": "solid"
         },
         "marker": {
          "symbol": "circle"
         },
         "mode": "markers+lines",
         "name": "K-Prototypes",
         "orientation": "v",
         "showlegend": true,
         "type": "scatter",
         "x": [
          2,
          5,
          10,
          20,
          50,
          100
         ],
         "xaxis": "x",
         "y": [
          22.48828800000001,
          24.589850000000013,
          23.660162000000014,
          22.957055999999966,
          29.062494000000015,
          29.08986900000002
         ],
         "yaxis": "y"
        },
        {
         "hovertemplate": "variable=MixtComp<br>index=%{x}<br>value=%{y}<extra></extra>",
         "legendgroup": "MixtComp",
         "line": {
          "color": "#19d3f3",
          "dash": "solid"
         },
         "marker": {
          "symbol": "circle"
         },
         "mode": "markers+lines",
         "name": "MixtComp",
         "orientation": "v",
         "showlegend": true,
         "type": "scatter",
         "x": [
          2,
          5,
          10,
          20,
          50,
          100
         ],
         "xaxis": "x",
         "y": [
          150.21093099999996,
          153.73832499999997,
          48.41409400000003,
          149.69142499999998,
          153.152338,
          156.60938099999998
         ],
         "yaxis": "y"
        },
        {
         "hovertemplate": "variable=Modha-Spangler<br>index=%{x}<br>value=%{y}<extra></extra>",
         "legendgroup": "Modha-Spangler",
         "line": {
          "color": "#FF6692",
          "dash": "solid"
         },
         "marker": {
          "symbol": "circle"
         },
         "mode": "markers+lines",
         "name": "Modha-Spangler",
         "orientation": "v",
         "showlegend": true,
         "type": "scatter",
         "x": [
          2,
          5,
          10,
          20,
          50,
          100
         ],
         "xaxis": "x",
         "y": [
          113.660188,
          117.761731,
          111.90238799999997,
          113.71091200000001,
          116.41013099999998,
          120.94136200000003
         ],
         "yaxis": "y"
        },
        {
         "hovertemplate": "variable=Pretopo-FAMD<br>index=%{x}<br>value=%{y}<extra></extra>",
         "legendgroup": "Pretopo-FAMD",
         "line": {
          "color": "#B6E880",
          "dash": "solid"
         },
         "marker": {
          "symbol": "circle"
         },
         "mode": "markers+lines",
         "name": "Pretopo-FAMD",
         "orientation": "v",
         "showlegend": true,
         "type": "scatter",
         "x": [
          2,
          5,
          10,
          20,
          50,
          100
         ],
         "xaxis": "x",
         "y": [
          57.89453099999997,
          58.757799999999975,
          56.75386200000003,
          58.41797500000001,
          59.843725000000006,
          60.878855999999985
         ],
         "yaxis": "y"
        },
        {
         "hovertemplate": "variable=Pretopo-UMAP<br>index=%{x}<br>value=%{y}<extra></extra>",
         "legendgroup": "Pretopo-UMAP",
         "line": {
          "color": "#FF97FF",
          "dash": "solid"
         },
         "marker": {
          "symbol": "circle"
         },
         "mode": "markers+lines",
         "name": "Pretopo-UMAP",
         "orientation": "v",
         "showlegend": true,
         "type": "scatter",
         "x": [
          2,
          5,
          10,
          20,
          50,
          100
         ],
         "xaxis": "x",
         "y": [
          73.347644,
          77.55470599999995,
          76.40238099999999,
          73.83593099999996,
          74.02339999999998,
          77.22269400000005
         ],
         "yaxis": "y"
        },
        {
         "hovertemplate": "variable=Pretopo-PaCMAP<br>index=%{x}<br>value=%{y}<extra></extra>",
         "legendgroup": "Pretopo-PaCMAP",
         "line": {
          "color": "#FECB52",
          "dash": "solid"
         },
         "marker": {
          "symbol": "circle"
         },
         "mode": "markers+lines",
         "name": "Pretopo-PaCMAP",
         "orientation": "v",
         "showlegend": true,
         "type": "scatter",
         "x": [
          2,
          5,
          10,
          20,
          50,
          100
         ],
         "xaxis": "x",
         "y": [
          57.46873099999999,
          59.472644,
          60.71089999999998,
          58.38285000000002,
          63.12503099999998,
          62.31640599999997
         ],
         "yaxis": "y"
        },
        {
         "hovertemplate": "variable=PretopoMD<br>index=%{x}<br>value=%{y}<extra></extra>",
         "legendgroup": "PretopoMD",
         "line": {
          "color": "#636efa",
          "dash": "solid"
         },
         "marker": {
          "symbol": "circle"
         },
         "mode": "markers+lines",
         "name": "PretopoMD",
         "orientation": "v",
         "showlegend": true,
         "type": "scatter",
         "x": [
          2,
          5,
          10,
          20,
          50,
          100
         ],
         "xaxis": "x",
         "y": [
          13.074180999999953,
          13.164044000000047,
          14.542994000000022,
          12.960894000000053,
          13.746094000000028,
          13.351605999999947
         ],
         "yaxis": "y"
        }
       ],
       "layout": {
        "legend": {
         "title": {
          "text": "Algorithm"
         },
         "tracegroupgap": 0
        },
        "margin": {
         "t": 60
        },
        "template": {
         "data": {
          "bar": [
           {
            "error_x": {
             "color": "#2a3f5f"
            },
            "error_y": {
             "color": "#2a3f5f"
            },
            "marker": {
             "line": {
              "color": "#E5ECF6",
              "width": 0.5
             },
             "pattern": {
              "fillmode": "overlay",
              "size": 10,
              "solidity": 0.2
             }
            },
            "type": "bar"
           }
          ],
          "barpolar": [
           {
            "marker": {
             "line": {
              "color": "#E5ECF6",
              "width": 0.5
             },
             "pattern": {
              "fillmode": "overlay",
              "size": 10,
              "solidity": 0.2
             }
            },
            "type": "barpolar"
           }
          ],
          "carpet": [
           {
            "aaxis": {
             "endlinecolor": "#2a3f5f",
             "gridcolor": "white",
             "linecolor": "white",
             "minorgridcolor": "white",
             "startlinecolor": "#2a3f5f"
            },
            "baxis": {
             "endlinecolor": "#2a3f5f",
             "gridcolor": "white",
             "linecolor": "white",
             "minorgridcolor": "white",
             "startlinecolor": "#2a3f5f"
            },
            "type": "carpet"
           }
          ],
          "choropleth": [
           {
            "colorbar": {
             "outlinewidth": 0,
             "ticks": ""
            },
            "type": "choropleth"
           }
          ],
          "contour": [
           {
            "colorbar": {
             "outlinewidth": 0,
             "ticks": ""
            },
            "colorscale": [
             [
              0,
              "#0d0887"
             ],
             [
              0.1111111111111111,
              "#46039f"
             ],
             [
              0.2222222222222222,
              "#7201a8"
             ],
             [
              0.3333333333333333,
              "#9c179e"
             ],
             [
              0.4444444444444444,
              "#bd3786"
             ],
             [
              0.5555555555555556,
              "#d8576b"
             ],
             [
              0.6666666666666666,
              "#ed7953"
             ],
             [
              0.7777777777777778,
              "#fb9f3a"
             ],
             [
              0.8888888888888888,
              "#fdca26"
             ],
             [
              1,
              "#f0f921"
             ]
            ],
            "type": "contour"
           }
          ],
          "contourcarpet": [
           {
            "colorbar": {
             "outlinewidth": 0,
             "ticks": ""
            },
            "type": "contourcarpet"
           }
          ],
          "heatmap": [
           {
            "colorbar": {
             "outlinewidth": 0,
             "ticks": ""
            },
            "colorscale": [
             [
              0,
              "#0d0887"
             ],
             [
              0.1111111111111111,
              "#46039f"
             ],
             [
              0.2222222222222222,
              "#7201a8"
             ],
             [
              0.3333333333333333,
              "#9c179e"
             ],
             [
              0.4444444444444444,
              "#bd3786"
             ],
             [
              0.5555555555555556,
              "#d8576b"
             ],
             [
              0.6666666666666666,
              "#ed7953"
             ],
             [
              0.7777777777777778,
              "#fb9f3a"
             ],
             [
              0.8888888888888888,
              "#fdca26"
             ],
             [
              1,
              "#f0f921"
             ]
            ],
            "type": "heatmap"
           }
          ],
          "heatmapgl": [
           {
            "colorbar": {
             "outlinewidth": 0,
             "ticks": ""
            },
            "colorscale": [
             [
              0,
              "#0d0887"
             ],
             [
              0.1111111111111111,
              "#46039f"
             ],
             [
              0.2222222222222222,
              "#7201a8"
             ],
             [
              0.3333333333333333,
              "#9c179e"
             ],
             [
              0.4444444444444444,
              "#bd3786"
             ],
             [
              0.5555555555555556,
              "#d8576b"
             ],
             [
              0.6666666666666666,
              "#ed7953"
             ],
             [
              0.7777777777777778,
              "#fb9f3a"
             ],
             [
              0.8888888888888888,
              "#fdca26"
             ],
             [
              1,
              "#f0f921"
             ]
            ],
            "type": "heatmapgl"
           }
          ],
          "histogram": [
           {
            "marker": {
             "pattern": {
              "fillmode": "overlay",
              "size": 10,
              "solidity": 0.2
             }
            },
            "type": "histogram"
           }
          ],
          "histogram2d": [
           {
            "colorbar": {
             "outlinewidth": 0,
             "ticks": ""
            },
            "colorscale": [
             [
              0,
              "#0d0887"
             ],
             [
              0.1111111111111111,
              "#46039f"
             ],
             [
              0.2222222222222222,
              "#7201a8"
             ],
             [
              0.3333333333333333,
              "#9c179e"
             ],
             [
              0.4444444444444444,
              "#bd3786"
             ],
             [
              0.5555555555555556,
              "#d8576b"
             ],
             [
              0.6666666666666666,
              "#ed7953"
             ],
             [
              0.7777777777777778,
              "#fb9f3a"
             ],
             [
              0.8888888888888888,
              "#fdca26"
             ],
             [
              1,
              "#f0f921"
             ]
            ],
            "type": "histogram2d"
           }
          ],
          "histogram2dcontour": [
           {
            "colorbar": {
             "outlinewidth": 0,
             "ticks": ""
            },
            "colorscale": [
             [
              0,
              "#0d0887"
             ],
             [
              0.1111111111111111,
              "#46039f"
             ],
             [
              0.2222222222222222,
              "#7201a8"
             ],
             [
              0.3333333333333333,
              "#9c179e"
             ],
             [
              0.4444444444444444,
              "#bd3786"
             ],
             [
              0.5555555555555556,
              "#d8576b"
             ],
             [
              0.6666666666666666,
              "#ed7953"
             ],
             [
              0.7777777777777778,
              "#fb9f3a"
             ],
             [
              0.8888888888888888,
              "#fdca26"
             ],
             [
              1,
              "#f0f921"
             ]
            ],
            "type": "histogram2dcontour"
           }
          ],
          "mesh3d": [
           {
            "colorbar": {
             "outlinewidth": 0,
             "ticks": ""
            },
            "type": "mesh3d"
           }
          ],
          "parcoords": [
           {
            "line": {
             "colorbar": {
              "outlinewidth": 0,
              "ticks": ""
             }
            },
            "type": "parcoords"
           }
          ],
          "pie": [
           {
            "automargin": true,
            "type": "pie"
           }
          ],
          "scatter": [
           {
            "fillpattern": {
             "fillmode": "overlay",
             "size": 10,
             "solidity": 0.2
            },
            "type": "scatter"
           }
          ],
          "scatter3d": [
           {
            "line": {
             "colorbar": {
              "outlinewidth": 0,
              "ticks": ""
             }
            },
            "marker": {
             "colorbar": {
              "outlinewidth": 0,
              "ticks": ""
             }
            },
            "type": "scatter3d"
           }
          ],
          "scattercarpet": [
           {
            "marker": {
             "colorbar": {
              "outlinewidth": 0,
              "ticks": ""
             }
            },
            "type": "scattercarpet"
           }
          ],
          "scattergeo": [
           {
            "marker": {
             "colorbar": {
              "outlinewidth": 0,
              "ticks": ""
             }
            },
            "type": "scattergeo"
           }
          ],
          "scattergl": [
           {
            "marker": {
             "colorbar": {
              "outlinewidth": 0,
              "ticks": ""
             }
            },
            "type": "scattergl"
           }
          ],
          "scattermapbox": [
           {
            "marker": {
             "colorbar": {
              "outlinewidth": 0,
              "ticks": ""
             }
            },
            "type": "scattermapbox"
           }
          ],
          "scatterpolar": [
           {
            "marker": {
             "colorbar": {
              "outlinewidth": 0,
              "ticks": ""
             }
            },
            "type": "scatterpolar"
           }
          ],
          "scatterpolargl": [
           {
            "marker": {
             "colorbar": {
              "outlinewidth": 0,
              "ticks": ""
             }
            },
            "type": "scatterpolargl"
           }
          ],
          "scatterternary": [
           {
            "marker": {
             "colorbar": {
              "outlinewidth": 0,
              "ticks": ""
             }
            },
            "type": "scatterternary"
           }
          ],
          "surface": [
           {
            "colorbar": {
             "outlinewidth": 0,
             "ticks": ""
            },
            "colorscale": [
             [
              0,
              "#0d0887"
             ],
             [
              0.1111111111111111,
              "#46039f"
             ],
             [
              0.2222222222222222,
              "#7201a8"
             ],
             [
              0.3333333333333333,
              "#9c179e"
             ],
             [
              0.4444444444444444,
              "#bd3786"
             ],
             [
              0.5555555555555556,
              "#d8576b"
             ],
             [
              0.6666666666666666,
              "#ed7953"
             ],
             [
              0.7777777777777778,
              "#fb9f3a"
             ],
             [
              0.8888888888888888,
              "#fdca26"
             ],
             [
              1,
              "#f0f921"
             ]
            ],
            "type": "surface"
           }
          ],
          "table": [
           {
            "cells": {
             "fill": {
              "color": "#EBF0F8"
             },
             "line": {
              "color": "white"
             }
            },
            "header": {
             "fill": {
              "color": "#C8D4E3"
             },
             "line": {
              "color": "white"
             }
            },
            "type": "table"
           }
          ]
         },
         "layout": {
          "annotationdefaults": {
           "arrowcolor": "#2a3f5f",
           "arrowhead": 0,
           "arrowwidth": 1
          },
          "autotypenumbers": "strict",
          "coloraxis": {
           "colorbar": {
            "outlinewidth": 0,
            "ticks": ""
           }
          },
          "colorscale": {
           "diverging": [
            [
             0,
             "#8e0152"
            ],
            [
             0.1,
             "#c51b7d"
            ],
            [
             0.2,
             "#de77ae"
            ],
            [
             0.3,
             "#f1b6da"
            ],
            [
             0.4,
             "#fde0ef"
            ],
            [
             0.5,
             "#f7f7f7"
            ],
            [
             0.6,
             "#e6f5d0"
            ],
            [
             0.7,
             "#b8e186"
            ],
            [
             0.8,
             "#7fbc41"
            ],
            [
             0.9,
             "#4d9221"
            ],
            [
             1,
             "#276419"
            ]
           ],
           "sequential": [
            [
             0,
             "#0d0887"
            ],
            [
             0.1111111111111111,
             "#46039f"
            ],
            [
             0.2222222222222222,
             "#7201a8"
            ],
            [
             0.3333333333333333,
             "#9c179e"
            ],
            [
             0.4444444444444444,
             "#bd3786"
            ],
            [
             0.5555555555555556,
             "#d8576b"
            ],
            [
             0.6666666666666666,
             "#ed7953"
            ],
            [
             0.7777777777777778,
             "#fb9f3a"
            ],
            [
             0.8888888888888888,
             "#fdca26"
            ],
            [
             1,
             "#f0f921"
            ]
           ],
           "sequentialminus": [
            [
             0,
             "#0d0887"
            ],
            [
             0.1111111111111111,
             "#46039f"
            ],
            [
             0.2222222222222222,
             "#7201a8"
            ],
            [
             0.3333333333333333,
             "#9c179e"
            ],
            [
             0.4444444444444444,
             "#bd3786"
            ],
            [
             0.5555555555555556,
             "#d8576b"
            ],
            [
             0.6666666666666666,
             "#ed7953"
            ],
            [
             0.7777777777777778,
             "#fb9f3a"
            ],
            [
             0.8888888888888888,
             "#fdca26"
            ],
            [
             1,
             "#f0f921"
            ]
           ]
          },
          "colorway": [
           "#636efa",
           "#EF553B",
           "#00cc96",
           "#ab63fa",
           "#FFA15A",
           "#19d3f3",
           "#FF6692",
           "#B6E880",
           "#FF97FF",
           "#FECB52"
          ],
          "font": {
           "color": "#2a3f5f"
          },
          "geo": {
           "bgcolor": "white",
           "lakecolor": "white",
           "landcolor": "#E5ECF6",
           "showlakes": true,
           "showland": true,
           "subunitcolor": "white"
          },
          "hoverlabel": {
           "align": "left"
          },
          "hovermode": "closest",
          "mapbox": {
           "style": "light"
          },
          "paper_bgcolor": "white",
          "plot_bgcolor": "#E5ECF6",
          "polar": {
           "angularaxis": {
            "gridcolor": "white",
            "linecolor": "white",
            "ticks": ""
           },
           "bgcolor": "#E5ECF6",
           "radialaxis": {
            "gridcolor": "white",
            "linecolor": "white",
            "ticks": ""
           }
          },
          "scene": {
           "xaxis": {
            "backgroundcolor": "#E5ECF6",
            "gridcolor": "white",
            "gridwidth": 2,
            "linecolor": "white",
            "showbackground": true,
            "ticks": "",
            "zerolinecolor": "white"
           },
           "yaxis": {
            "backgroundcolor": "#E5ECF6",
            "gridcolor": "white",
            "gridwidth": 2,
            "linecolor": "white",
            "showbackground": true,
            "ticks": "",
            "zerolinecolor": "white"
           },
           "zaxis": {
            "backgroundcolor": "#E5ECF6",
            "gridcolor": "white",
            "gridwidth": 2,
            "linecolor": "white",
            "showbackground": true,
            "ticks": "",
            "zerolinecolor": "white"
           }
          },
          "shapedefaults": {
           "line": {
            "color": "#2a3f5f"
           }
          },
          "ternary": {
           "aaxis": {
            "gridcolor": "white",
            "linecolor": "white",
            "ticks": ""
           },
           "baxis": {
            "gridcolor": "white",
            "linecolor": "white",
            "ticks": ""
           },
           "bgcolor": "#E5ECF6",
           "caxis": {
            "gridcolor": "white",
            "linecolor": "white",
            "ticks": ""
           }
          },
          "title": {
           "x": 0.05
          },
          "xaxis": {
           "automargin": true,
           "gridcolor": "white",
           "linecolor": "white",
           "ticks": "",
           "title": {
            "standoff": 15
           },
           "zerolinecolor": "white",
           "zerolinewidth": 2
          },
          "yaxis": {
           "automargin": true,
           "gridcolor": "white",
           "linecolor": "white",
           "ticks": "",
           "title": {
            "standoff": 15
           },
           "zerolinecolor": "white",
           "zerolinewidth": 2
          }
         }
        },
        "xaxis": {
         "anchor": "y",
         "domain": [
          0,
          1
         ],
         "title": {
          "text": "Number of Categorical Features"
         }
        },
        "yaxis": {
         "anchor": "x",
         "domain": [
          0,
          1
         ],
         "title": {
          "text": "Maximum Memory Usage (MiB)"
         }
        }
       }
      }
     },
     "metadata": {},
     "output_type": "display_data"
    }
   ],
   "source": [
    "cat_df = pd.DataFrame.from_dict(n_cat)[nn]\n",
    "cat_mem = cat_df.apply(lambda x: x.str[0]).T\n",
    "px.line(data_frame=cat_mem,title=\"Time (s)\")\n",
    "\n",
    "cat_df = pd.DataFrame.from_dict(n_cat)[nn]\n",
    "cat_mem = cat_df.apply(lambda x: x.str[0]).T\n",
    "fig = px.line(data_frame=cat_mem,markers=\"*\")\n",
    "fig.update_layout(legend_title_text='Algorithm')\n",
    "fig.update_xaxes(title=\"Number of Categorical Features\")\n",
    "fig.update_yaxes(title=\"Maximum Memory Usage (MiB)\")\n",
    "fig"
   ]
  },
  {
   "cell_type": "code",
   "execution_count": 15,
   "metadata": {},
   "outputs": [
    {
     "data": {
      "application/vnd.plotly.v1+json": {
       "config": {
        "plotlyServerURL": "https://plot.ly"
       },
       "data": [
        {
         "hovertemplate": "variable=ClustMD<br>index=%{x}<br>value=%{y}<extra></extra>",
         "legendgroup": "ClustMD",
         "line": {
          "color": "#636efa",
          "dash": "solid"
         },
         "marker": {
          "symbol": "circle"
         },
         "mode": "markers+lines",
         "name": "ClustMD",
         "orientation": "v",
         "showlegend": true,
         "type": "scatter",
         "x": [
          2,
          5,
          10,
          20,
          50,
          100
         ],
         "xaxis": "x",
         "y": [
          24.157700061798096,
          28.09750008583069,
          39.76929998397827,
          59.13629984855652,
          181.58169984817505,
          495.93039989471436
         ],
         "yaxis": "y"
        },
        {
         "hovertemplate": "variable=DenseClus<br>index=%{x}<br>value=%{y}<extra></extra>",
         "legendgroup": "DenseClus",
         "line": {
          "color": "#EF553B",
          "dash": "solid"
         },
         "marker": {
          "symbol": "circle"
         },
         "mode": "markers+lines",
         "name": "DenseClus",
         "orientation": "v",
         "showlegend": true,
         "type": "scatter",
         "x": [
          2,
          5,
          10,
          20,
          50,
          100
         ],
         "xaxis": "x",
         "y": [
          19.677599906921387,
          17.524900197982788,
          15.17519998550415,
          14.841700077056885,
          15.102699995040894,
          15.217099905014038
         ],
         "yaxis": "y"
        },
        {
         "hovertemplate": "variable=Phillip & Ottaway<br>index=%{x}<br>value=%{y}<extra></extra>",
         "legendgroup": "Phillip & Ottaway",
         "line": {
          "color": "#00cc96",
          "dash": "solid"
         },
         "marker": {
          "symbol": "circle"
         },
         "mode": "markers+lines",
         "name": "Phillip & Ottaway",
         "orientation": "v",
         "showlegend": true,
         "type": "scatter",
         "x": [
          2,
          5,
          10,
          20,
          50,
          100
         ],
         "xaxis": "x",
         "y": [
          1.2940001487731934,
          1.4196999073028564,
          1.4890000820159912,
          1.6340000629425049,
          2.3259999752044678,
          2.7990000247955322
         ],
         "yaxis": "y"
        },
        {
         "hovertemplate": "variable=Kamila<br>index=%{x}<br>value=%{y}<extra></extra>",
         "legendgroup": "Kamila",
         "line": {
          "color": "#ab63fa",
          "dash": "solid"
         },
         "marker": {
          "symbol": "circle"
         },
         "mode": "markers+lines",
         "name": "Kamila",
         "orientation": "v",
         "showlegend": true,
         "type": "scatter",
         "x": [
          2,
          5,
          10,
          20,
          50,
          100
         ],
         "xaxis": "x",
         "y": [
          1.5409998893737793,
          1.6607000827789307,
          1.7149999141693115,
          1.817000150680542,
          2.0460000038146973,
          2.4720001220703125
         ],
         "yaxis": "y"
        },
        {
         "hovertemplate": "variable=K-Prototypes<br>index=%{x}<br>value=%{y}<extra></extra>",
         "legendgroup": "K-Prototypes",
         "line": {
          "color": "#FFA15A",
          "dash": "solid"
         },
         "marker": {
          "symbol": "circle"
         },
         "mode": "markers+lines",
         "name": "K-Prototypes",
         "orientation": "v",
         "showlegend": true,
         "type": "scatter",
         "x": [
          2,
          5,
          10,
          20,
          50,
          100
         ],
         "xaxis": "x",
         "y": [
          2.174999952316284,
          2.361299991607666,
          2.270400047302246,
          2.5440001487731934,
          3.2049999237060547,
          3.881999969482422
         ],
         "yaxis": "y"
        },
        {
         "hovertemplate": "variable=MixtComp<br>index=%{x}<br>value=%{y}<extra></extra>",
         "legendgroup": "MixtComp",
         "line": {
          "color": "#19d3f3",
          "dash": "solid"
         },
         "marker": {
          "symbol": "circle"
         },
         "mode": "markers+lines",
         "name": "MixtComp",
         "orientation": "v",
         "showlegend": true,
         "type": "scatter",
         "x": [
          2,
          5,
          10,
          20,
          50,
          100
         ],
         "xaxis": "x",
         "y": [
          2.613100051879883,
          2.758500099182129,
          4.771500110626221,
          3.452000141143799,
          4.736999988555908,
          6.975300073623657
         ],
         "yaxis": "y"
        },
        {
         "hovertemplate": "variable=Modha-Spangler<br>index=%{x}<br>value=%{y}<extra></extra>",
         "legendgroup": "Modha-Spangler",
         "line": {
          "color": "#FF6692",
          "dash": "solid"
         },
         "marker": {
          "symbol": "circle"
         },
         "mode": "markers+lines",
         "name": "Modha-Spangler",
         "orientation": "v",
         "showlegend": true,
         "type": "scatter",
         "x": [
          2,
          5,
          10,
          20,
          50,
          100
         ],
         "xaxis": "x",
         "y": [
          9.431099891662598,
          13.666800022125244,
          21.130199909210205,
          35.03909993171692,
          79.72449994087219,
          157.2970998287201
         ],
         "yaxis": "y"
        },
        {
         "hovertemplate": "variable=Pretopo-FAMD<br>index=%{x}<br>value=%{y}<extra></extra>",
         "legendgroup": "Pretopo-FAMD",
         "line": {
          "color": "#B6E880",
          "dash": "solid"
         },
         "marker": {
          "symbol": "circle"
         },
         "mode": "markers+lines",
         "name": "Pretopo-FAMD",
         "orientation": "v",
         "showlegend": true,
         "type": "scatter",
         "x": [
          2,
          5,
          10,
          20,
          50,
          100
         ],
         "xaxis": "x",
         "y": [
          3.2744998931884766,
          3.3143999576568604,
          3.068700075149536,
          3.1110000610351562,
          3.2385001182556152,
          3.5114998817443848
         ],
         "yaxis": "y"
        },
        {
         "hovertemplate": "variable=Pretopo-UMAP<br>index=%{x}<br>value=%{y}<extra></extra>",
         "legendgroup": "Pretopo-UMAP",
         "line": {
          "color": "#FF97FF",
          "dash": "solid"
         },
         "marker": {
          "symbol": "circle"
         },
         "mode": "markers+lines",
         "name": "Pretopo-UMAP",
         "orientation": "v",
         "showlegend": true,
         "type": "scatter",
         "x": [
          2,
          5,
          10,
          20,
          50,
          100
         ],
         "xaxis": "x",
         "y": [
          9.408699989318848,
          9.262700080871582,
          9.356499910354614,
          9.755599975585938,
          9.767699956893921,
          9.758800029754639
         ],
         "yaxis": "y"
        },
        {
         "hovertemplate": "variable=Pretopo-PaCMAP<br>index=%{x}<br>value=%{y}<extra></extra>",
         "legendgroup": "Pretopo-PaCMAP",
         "line": {
          "color": "#FECB52",
          "dash": "solid"
         },
         "marker": {
          "symbol": "circle"
         },
         "mode": "markers+lines",
         "name": "Pretopo-PaCMAP",
         "orientation": "v",
         "showlegend": true,
         "type": "scatter",
         "x": [
          2,
          5,
          10,
          20,
          50,
          100
         ],
         "xaxis": "x",
         "y": [
          3.5339999198913574,
          3.909899950027466,
          3.812000036239624,
          4.109899997711182,
          5.388700008392334,
          6.734800100326538
         ],
         "yaxis": "y"
        },
        {
         "hovertemplate": "variable=PretopoMD<br>index=%{x}<br>value=%{y}<extra></extra>",
         "legendgroup": "PretopoMD",
         "line": {
          "color": "#636efa",
          "dash": "solid"
         },
         "marker": {
          "symbol": "circle"
         },
         "mode": "markers+lines",
         "name": "PretopoMD",
         "orientation": "v",
         "showlegend": true,
         "type": "scatter",
         "x": [
          2,
          5,
          10,
          20,
          50,
          100
         ],
         "xaxis": "x",
         "y": [
          13.948699951171875,
          19.644400119781494,
          22.897000074386597,
          13.557500123977661,
          13.465200185775757,
          14.860399961471558
         ],
         "yaxis": "y"
        }
       ],
       "layout": {
        "legend": {
         "title": {
          "text": "Algorithm"
         },
         "tracegroupgap": 0
        },
        "margin": {
         "t": 60
        },
        "template": {
         "data": {
          "bar": [
           {
            "error_x": {
             "color": "#2a3f5f"
            },
            "error_y": {
             "color": "#2a3f5f"
            },
            "marker": {
             "line": {
              "color": "#E5ECF6",
              "width": 0.5
             },
             "pattern": {
              "fillmode": "overlay",
              "size": 10,
              "solidity": 0.2
             }
            },
            "type": "bar"
           }
          ],
          "barpolar": [
           {
            "marker": {
             "line": {
              "color": "#E5ECF6",
              "width": 0.5
             },
             "pattern": {
              "fillmode": "overlay",
              "size": 10,
              "solidity": 0.2
             }
            },
            "type": "barpolar"
           }
          ],
          "carpet": [
           {
            "aaxis": {
             "endlinecolor": "#2a3f5f",
             "gridcolor": "white",
             "linecolor": "white",
             "minorgridcolor": "white",
             "startlinecolor": "#2a3f5f"
            },
            "baxis": {
             "endlinecolor": "#2a3f5f",
             "gridcolor": "white",
             "linecolor": "white",
             "minorgridcolor": "white",
             "startlinecolor": "#2a3f5f"
            },
            "type": "carpet"
           }
          ],
          "choropleth": [
           {
            "colorbar": {
             "outlinewidth": 0,
             "ticks": ""
            },
            "type": "choropleth"
           }
          ],
          "contour": [
           {
            "colorbar": {
             "outlinewidth": 0,
             "ticks": ""
            },
            "colorscale": [
             [
              0,
              "#0d0887"
             ],
             [
              0.1111111111111111,
              "#46039f"
             ],
             [
              0.2222222222222222,
              "#7201a8"
             ],
             [
              0.3333333333333333,
              "#9c179e"
             ],
             [
              0.4444444444444444,
              "#bd3786"
             ],
             [
              0.5555555555555556,
              "#d8576b"
             ],
             [
              0.6666666666666666,
              "#ed7953"
             ],
             [
              0.7777777777777778,
              "#fb9f3a"
             ],
             [
              0.8888888888888888,
              "#fdca26"
             ],
             [
              1,
              "#f0f921"
             ]
            ],
            "type": "contour"
           }
          ],
          "contourcarpet": [
           {
            "colorbar": {
             "outlinewidth": 0,
             "ticks": ""
            },
            "type": "contourcarpet"
           }
          ],
          "heatmap": [
           {
            "colorbar": {
             "outlinewidth": 0,
             "ticks": ""
            },
            "colorscale": [
             [
              0,
              "#0d0887"
             ],
             [
              0.1111111111111111,
              "#46039f"
             ],
             [
              0.2222222222222222,
              "#7201a8"
             ],
             [
              0.3333333333333333,
              "#9c179e"
             ],
             [
              0.4444444444444444,
              "#bd3786"
             ],
             [
              0.5555555555555556,
              "#d8576b"
             ],
             [
              0.6666666666666666,
              "#ed7953"
             ],
             [
              0.7777777777777778,
              "#fb9f3a"
             ],
             [
              0.8888888888888888,
              "#fdca26"
             ],
             [
              1,
              "#f0f921"
             ]
            ],
            "type": "heatmap"
           }
          ],
          "heatmapgl": [
           {
            "colorbar": {
             "outlinewidth": 0,
             "ticks": ""
            },
            "colorscale": [
             [
              0,
              "#0d0887"
             ],
             [
              0.1111111111111111,
              "#46039f"
             ],
             [
              0.2222222222222222,
              "#7201a8"
             ],
             [
              0.3333333333333333,
              "#9c179e"
             ],
             [
              0.4444444444444444,
              "#bd3786"
             ],
             [
              0.5555555555555556,
              "#d8576b"
             ],
             [
              0.6666666666666666,
              "#ed7953"
             ],
             [
              0.7777777777777778,
              "#fb9f3a"
             ],
             [
              0.8888888888888888,
              "#fdca26"
             ],
             [
              1,
              "#f0f921"
             ]
            ],
            "type": "heatmapgl"
           }
          ],
          "histogram": [
           {
            "marker": {
             "pattern": {
              "fillmode": "overlay",
              "size": 10,
              "solidity": 0.2
             }
            },
            "type": "histogram"
           }
          ],
          "histogram2d": [
           {
            "colorbar": {
             "outlinewidth": 0,
             "ticks": ""
            },
            "colorscale": [
             [
              0,
              "#0d0887"
             ],
             [
              0.1111111111111111,
              "#46039f"
             ],
             [
              0.2222222222222222,
              "#7201a8"
             ],
             [
              0.3333333333333333,
              "#9c179e"
             ],
             [
              0.4444444444444444,
              "#bd3786"
             ],
             [
              0.5555555555555556,
              "#d8576b"
             ],
             [
              0.6666666666666666,
              "#ed7953"
             ],
             [
              0.7777777777777778,
              "#fb9f3a"
             ],
             [
              0.8888888888888888,
              "#fdca26"
             ],
             [
              1,
              "#f0f921"
             ]
            ],
            "type": "histogram2d"
           }
          ],
          "histogram2dcontour": [
           {
            "colorbar": {
             "outlinewidth": 0,
             "ticks": ""
            },
            "colorscale": [
             [
              0,
              "#0d0887"
             ],
             [
              0.1111111111111111,
              "#46039f"
             ],
             [
              0.2222222222222222,
              "#7201a8"
             ],
             [
              0.3333333333333333,
              "#9c179e"
             ],
             [
              0.4444444444444444,
              "#bd3786"
             ],
             [
              0.5555555555555556,
              "#d8576b"
             ],
             [
              0.6666666666666666,
              "#ed7953"
             ],
             [
              0.7777777777777778,
              "#fb9f3a"
             ],
             [
              0.8888888888888888,
              "#fdca26"
             ],
             [
              1,
              "#f0f921"
             ]
            ],
            "type": "histogram2dcontour"
           }
          ],
          "mesh3d": [
           {
            "colorbar": {
             "outlinewidth": 0,
             "ticks": ""
            },
            "type": "mesh3d"
           }
          ],
          "parcoords": [
           {
            "line": {
             "colorbar": {
              "outlinewidth": 0,
              "ticks": ""
             }
            },
            "type": "parcoords"
           }
          ],
          "pie": [
           {
            "automargin": true,
            "type": "pie"
           }
          ],
          "scatter": [
           {
            "fillpattern": {
             "fillmode": "overlay",
             "size": 10,
             "solidity": 0.2
            },
            "type": "scatter"
           }
          ],
          "scatter3d": [
           {
            "line": {
             "colorbar": {
              "outlinewidth": 0,
              "ticks": ""
             }
            },
            "marker": {
             "colorbar": {
              "outlinewidth": 0,
              "ticks": ""
             }
            },
            "type": "scatter3d"
           }
          ],
          "scattercarpet": [
           {
            "marker": {
             "colorbar": {
              "outlinewidth": 0,
              "ticks": ""
             }
            },
            "type": "scattercarpet"
           }
          ],
          "scattergeo": [
           {
            "marker": {
             "colorbar": {
              "outlinewidth": 0,
              "ticks": ""
             }
            },
            "type": "scattergeo"
           }
          ],
          "scattergl": [
           {
            "marker": {
             "colorbar": {
              "outlinewidth": 0,
              "ticks": ""
             }
            },
            "type": "scattergl"
           }
          ],
          "scattermapbox": [
           {
            "marker": {
             "colorbar": {
              "outlinewidth": 0,
              "ticks": ""
             }
            },
            "type": "scattermapbox"
           }
          ],
          "scatterpolar": [
           {
            "marker": {
             "colorbar": {
              "outlinewidth": 0,
              "ticks": ""
             }
            },
            "type": "scatterpolar"
           }
          ],
          "scatterpolargl": [
           {
            "marker": {
             "colorbar": {
              "outlinewidth": 0,
              "ticks": ""
             }
            },
            "type": "scatterpolargl"
           }
          ],
          "scatterternary": [
           {
            "marker": {
             "colorbar": {
              "outlinewidth": 0,
              "ticks": ""
             }
            },
            "type": "scatterternary"
           }
          ],
          "surface": [
           {
            "colorbar": {
             "outlinewidth": 0,
             "ticks": ""
            },
            "colorscale": [
             [
              0,
              "#0d0887"
             ],
             [
              0.1111111111111111,
              "#46039f"
             ],
             [
              0.2222222222222222,
              "#7201a8"
             ],
             [
              0.3333333333333333,
              "#9c179e"
             ],
             [
              0.4444444444444444,
              "#bd3786"
             ],
             [
              0.5555555555555556,
              "#d8576b"
             ],
             [
              0.6666666666666666,
              "#ed7953"
             ],
             [
              0.7777777777777778,
              "#fb9f3a"
             ],
             [
              0.8888888888888888,
              "#fdca26"
             ],
             [
              1,
              "#f0f921"
             ]
            ],
            "type": "surface"
           }
          ],
          "table": [
           {
            "cells": {
             "fill": {
              "color": "#EBF0F8"
             },
             "line": {
              "color": "white"
             }
            },
            "header": {
             "fill": {
              "color": "#C8D4E3"
             },
             "line": {
              "color": "white"
             }
            },
            "type": "table"
           }
          ]
         },
         "layout": {
          "annotationdefaults": {
           "arrowcolor": "#2a3f5f",
           "arrowhead": 0,
           "arrowwidth": 1
          },
          "autotypenumbers": "strict",
          "coloraxis": {
           "colorbar": {
            "outlinewidth": 0,
            "ticks": ""
           }
          },
          "colorscale": {
           "diverging": [
            [
             0,
             "#8e0152"
            ],
            [
             0.1,
             "#c51b7d"
            ],
            [
             0.2,
             "#de77ae"
            ],
            [
             0.3,
             "#f1b6da"
            ],
            [
             0.4,
             "#fde0ef"
            ],
            [
             0.5,
             "#f7f7f7"
            ],
            [
             0.6,
             "#e6f5d0"
            ],
            [
             0.7,
             "#b8e186"
            ],
            [
             0.8,
             "#7fbc41"
            ],
            [
             0.9,
             "#4d9221"
            ],
            [
             1,
             "#276419"
            ]
           ],
           "sequential": [
            [
             0,
             "#0d0887"
            ],
            [
             0.1111111111111111,
             "#46039f"
            ],
            [
             0.2222222222222222,
             "#7201a8"
            ],
            [
             0.3333333333333333,
             "#9c179e"
            ],
            [
             0.4444444444444444,
             "#bd3786"
            ],
            [
             0.5555555555555556,
             "#d8576b"
            ],
            [
             0.6666666666666666,
             "#ed7953"
            ],
            [
             0.7777777777777778,
             "#fb9f3a"
            ],
            [
             0.8888888888888888,
             "#fdca26"
            ],
            [
             1,
             "#f0f921"
            ]
           ],
           "sequentialminus": [
            [
             0,
             "#0d0887"
            ],
            [
             0.1111111111111111,
             "#46039f"
            ],
            [
             0.2222222222222222,
             "#7201a8"
            ],
            [
             0.3333333333333333,
             "#9c179e"
            ],
            [
             0.4444444444444444,
             "#bd3786"
            ],
            [
             0.5555555555555556,
             "#d8576b"
            ],
            [
             0.6666666666666666,
             "#ed7953"
            ],
            [
             0.7777777777777778,
             "#fb9f3a"
            ],
            [
             0.8888888888888888,
             "#fdca26"
            ],
            [
             1,
             "#f0f921"
            ]
           ]
          },
          "colorway": [
           "#636efa",
           "#EF553B",
           "#00cc96",
           "#ab63fa",
           "#FFA15A",
           "#19d3f3",
           "#FF6692",
           "#B6E880",
           "#FF97FF",
           "#FECB52"
          ],
          "font": {
           "color": "#2a3f5f"
          },
          "geo": {
           "bgcolor": "white",
           "lakecolor": "white",
           "landcolor": "#E5ECF6",
           "showlakes": true,
           "showland": true,
           "subunitcolor": "white"
          },
          "hoverlabel": {
           "align": "left"
          },
          "hovermode": "closest",
          "mapbox": {
           "style": "light"
          },
          "paper_bgcolor": "white",
          "plot_bgcolor": "#E5ECF6",
          "polar": {
           "angularaxis": {
            "gridcolor": "white",
            "linecolor": "white",
            "ticks": ""
           },
           "bgcolor": "#E5ECF6",
           "radialaxis": {
            "gridcolor": "white",
            "linecolor": "white",
            "ticks": ""
           }
          },
          "scene": {
           "xaxis": {
            "backgroundcolor": "#E5ECF6",
            "gridcolor": "white",
            "gridwidth": 2,
            "linecolor": "white",
            "showbackground": true,
            "ticks": "",
            "zerolinecolor": "white"
           },
           "yaxis": {
            "backgroundcolor": "#E5ECF6",
            "gridcolor": "white",
            "gridwidth": 2,
            "linecolor": "white",
            "showbackground": true,
            "ticks": "",
            "zerolinecolor": "white"
           },
           "zaxis": {
            "backgroundcolor": "#E5ECF6",
            "gridcolor": "white",
            "gridwidth": 2,
            "linecolor": "white",
            "showbackground": true,
            "ticks": "",
            "zerolinecolor": "white"
           }
          },
          "shapedefaults": {
           "line": {
            "color": "#2a3f5f"
           }
          },
          "ternary": {
           "aaxis": {
            "gridcolor": "white",
            "linecolor": "white",
            "ticks": ""
           },
           "baxis": {
            "gridcolor": "white",
            "linecolor": "white",
            "ticks": ""
           },
           "bgcolor": "#E5ECF6",
           "caxis": {
            "gridcolor": "white",
            "linecolor": "white",
            "ticks": ""
           }
          },
          "title": {
           "x": 0.05
          },
          "xaxis": {
           "automargin": true,
           "gridcolor": "white",
           "linecolor": "white",
           "ticks": "",
           "title": {
            "standoff": 15
           },
           "zerolinecolor": "white",
           "zerolinewidth": 2
          },
          "yaxis": {
           "automargin": true,
           "gridcolor": "white",
           "linecolor": "white",
           "ticks": "",
           "title": {
            "standoff": 15
           },
           "zerolinecolor": "white",
           "zerolinewidth": 2
          }
         }
        },
        "xaxis": {
         "anchor": "y",
         "domain": [
          0,
          1
         ],
         "title": {
          "text": "Number Categorical Features"
         }
        },
        "yaxis": {
         "anchor": "x",
         "domain": [
          0,
          1
         ],
         "title": {
          "text": "Computation Time (s)"
         }
        }
       }
      }
     },
     "metadata": {},
     "output_type": "display_data"
    }
   ],
   "source": [
    "cat_time = cat_df.apply(lambda x: x.str[1]).T\n",
    "#px.line(data_frame=cat_time, title=\"Memory Usage (MiB)\")\n",
    "\n",
    "fig = px.line(data_frame=cat_time,log_x=False,markers=\"*\")\n",
    "fig.update_layout(legend_title_text='Algorithm')\n",
    "fig.update_xaxes(title=\"Number Categorical Features\")\n",
    "fig.update_yaxes(title=\"Computation Time (s)\")\n",
    "fig"
   ]
  }
 ],
 "metadata": {
  "kernelspec": {
   "display_name": "Python 3",
   "language": "python",
   "name": "python3"
  },
  "language_info": {
   "codemirror_mode": {
    "name": "ipython",
    "version": 3
   },
   "file_extension": ".py",
   "mimetype": "text/x-python",
   "name": "python",
   "nbconvert_exporter": "python",
   "pygments_lexer": "ipython3",
   "version": "3.10.0"
  },
  "orig_nbformat": 4,
  "vscode": {
   "interpreter": {
    "hash": "c13fa53d9ca57d7eb06b3bded45cae9d1d4fccba06703c1e05380e65eacdcc4c"
   }
  }
 },
 "nbformat": 4,
 "nbformat_minor": 2
}
